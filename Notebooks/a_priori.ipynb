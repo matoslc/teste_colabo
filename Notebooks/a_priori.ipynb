{
  "nbformat": 4,
  "nbformat_minor": 0,
  "metadata": {
    "colab": {
      "name": "A priori.ipynb",
      "provenance": [],
      "authorship_tag": "ABX9TyPBnWrddznRy/Qtx7reBCbA",
      "include_colab_link": true
    },
    "kernelspec": {
      "name": "python3",
      "display_name": "Python 3"
    }
  },
  "cells": [
    {
      "cell_type": "markdown",
      "metadata": {
        "id": "view-in-github",
        "colab_type": "text"
      },
      "source": [
        "<a href=\"https://colab.research.google.com/github/matoslc/teste_colabo/blob/main/Notebooks/a_priori.ipynb\" target=\"_parent\"><img src=\"https://colab.research.google.com/assets/colab-badge.svg\" alt=\"Open In Colab\"/></a>"
      ]
    },
    {
      "cell_type": "markdown",
      "metadata": {
        "id": "aFzGTYsOerM4"
      },
      "source": [
        "# Importação do Arquivo\n",
        "\n",
        "\n"
      ]
    },
    {
      "cell_type": "code",
      "metadata": {
        "id": "pvWx0qKatBaW"
      },
      "source": [
        "import pandas as pd\n",
        "from pandas import read_csv\n",
        "from mlxtend.preprocessing import TransactionEncoder\n",
        "from mlxtend.frequent_patterns import apriori\n",
        "from mlxtend.frequent_patterns import association_rules"
      ],
      "execution_count": 1,
      "outputs": []
    },
    {
      "cell_type": "code",
      "metadata": {
        "id": "dCQ03DUGtIb8",
        "colab": {
          "base_uri": "https://localhost:8080/",
          "height": 195
        },
        "outputId": "8110c819-4688-4472-a8ea-331abc248136"
      },
      "source": [
        "#Realiza a leitura do csv contendo uma amostra reduzida dos dados do dataset titanic\n",
        "dataset = read_csv('https://telescopeinstorage.blob.core.windows.net/datasets/titanic-apriori.csv', sep=';' , engine='python')\n",
        "dataset.head()"
      ],
      "execution_count": null,
      "outputs": [
        {
          "output_type": "execute_result",
          "data": {
            "text/html": [
              "<div>\n",
              "<style scoped>\n",
              "    .dataframe tbody tr th:only-of-type {\n",
              "        vertical-align: middle;\n",
              "    }\n",
              "\n",
              "    .dataframe tbody tr th {\n",
              "        vertical-align: top;\n",
              "    }\n",
              "\n",
              "    .dataframe thead th {\n",
              "        text-align: right;\n",
              "    }\n",
              "</style>\n",
              "<table border=\"1\" class=\"dataframe\">\n",
              "  <thead>\n",
              "    <tr style=\"text-align: right;\">\n",
              "      <th></th>\n",
              "      <th>Class</th>\n",
              "      <th>Sex</th>\n",
              "      <th>Age</th>\n",
              "      <th>Survived</th>\n",
              "    </tr>\n",
              "  </thead>\n",
              "  <tbody>\n",
              "    <tr>\n",
              "      <th>0</th>\n",
              "      <td>3rd</td>\n",
              "      <td>Male</td>\n",
              "      <td>Child</td>\n",
              "      <td>No</td>\n",
              "    </tr>\n",
              "    <tr>\n",
              "      <th>1</th>\n",
              "      <td>3rd</td>\n",
              "      <td>Male</td>\n",
              "      <td>Child</td>\n",
              "      <td>No</td>\n",
              "    </tr>\n",
              "    <tr>\n",
              "      <th>2</th>\n",
              "      <td>3rd</td>\n",
              "      <td>Male</td>\n",
              "      <td>Child</td>\n",
              "      <td>No</td>\n",
              "    </tr>\n",
              "    <tr>\n",
              "      <th>3</th>\n",
              "      <td>3rd</td>\n",
              "      <td>Male</td>\n",
              "      <td>Child</td>\n",
              "      <td>No</td>\n",
              "    </tr>\n",
              "    <tr>\n",
              "      <th>4</th>\n",
              "      <td>3rd</td>\n",
              "      <td>Male</td>\n",
              "      <td>Child</td>\n",
              "      <td>No</td>\n",
              "    </tr>\n",
              "  </tbody>\n",
              "</table>\n",
              "</div>"
            ],
            "text/plain": [
              "  Class   Sex    Age Survived\n",
              "0   3rd  Male  Child       No\n",
              "1   3rd  Male  Child       No\n",
              "2   3rd  Male  Child       No\n",
              "3   3rd  Male  Child       No\n",
              "4   3rd  Male  Child       No"
            ]
          },
          "metadata": {
            "tags": []
          },
          "execution_count": 2
        }
      ]
    },
    {
      "cell_type": "code",
      "metadata": {
        "id": "apbDmeVktRdL"
      },
      "source": [
        "#Obtêm a quatidade de linhas e colunas\n",
        "qtdlinhas = dataset.shape[0]\n",
        "qtdcols = dataset.shape[1]"
      ],
      "execution_count": null,
      "outputs": []
    },
    {
      "cell_type": "code",
      "metadata": {
        "id": "TYGZSvtouXI3",
        "colab": {
          "base_uri": "https://localhost:8080/",
          "height": 50
        },
        "outputId": "0ec16fdc-045c-444b-805c-4ed9f3d7c2b2"
      },
      "source": [
        "print(qtdlinhas)\n",
        "print(qtdcols)"
      ],
      "execution_count": null,
      "outputs": [
        {
          "output_type": "stream",
          "text": [
            "2201\n",
            "4\n"
          ],
          "name": "stdout"
        }
      ]
    },
    {
      "cell_type": "code",
      "metadata": {
        "id": "L0BUP5ILuazd",
        "colab": {
          "base_uri": "https://localhost:8080/",
          "height": 54
        },
        "outputId": "b6571231-b09f-416f-ca0e-4b4ba0c10dcc"
      },
      "source": [
        "#Converte o dataset em uma lista de transacoes\n",
        "transacoes = []\n",
        "for i in range(0, qtdlinhas):\n",
        "    linhaTransacao = []\n",
        "    for j in range(0, qtdcols):        \n",
        "        linhaTransacao.append(str(dataset.values[i,j]))\n",
        "    \n",
        "    transacoes.append(linhaTransacao)\n",
        "print(transacoes)"
      ],
      "execution_count": null,
      "outputs": [
        {
          "output_type": "stream",
          "text": [
            "[['3rd', 'Male', 'Child', 'No'], ['3rd', 'Male', 'Child', 'No'], ['3rd', 'Male', 'Child', 'No'], ['3rd', 'Male', 'Child', 'No'], ['3rd', 'Male', 'Child', 'No'], ['3rd', 'Male', 'Child', 'No'], ['3rd', 'Male', 'Child', 'No'], ['3rd', 'Male', 'Child', 'No'], ['3rd', 'Male', 'Child', 'No'], ['3rd', 'Male', 'Child', 'No'], ['3rd', 'Male', 'Child', 'No'], ['3rd', 'Male', 'Child', 'No'], ['3rd', 'Male', 'Child', 'No'], ['3rd', 'Male', 'Child', 'No'], ['3rd', 'Male', 'Child', 'No'], ['3rd', 'Male', 'Child', 'No'], ['3rd', 'Male', 'Child', 'No'], ['3rd', 'Male', 'Child', 'No'], ['3rd', 'Male', 'Child', 'No'], ['3rd', 'Male', 'Child', 'No'], ['3rd', 'Male', 'Child', 'No'], ['3rd', 'Male', 'Child', 'No'], ['3rd', 'Male', 'Child', 'No'], ['3rd', 'Male', 'Child', 'No'], ['3rd', 'Male', 'Child', 'No'], ['3rd', 'Male', 'Child', 'No'], ['3rd', 'Male', 'Child', 'No'], ['3rd', 'Male', 'Child', 'No'], ['3rd', 'Male', 'Child', 'No'], ['3rd', 'Male', 'Child', 'No'], ['3rd', 'Male', 'Child', 'No'], ['3rd', 'Male', 'Child', 'No'], ['3rd', 'Male', 'Child', 'No'], ['3rd', 'Male', 'Child', 'No'], ['3rd', 'Male', 'Child', 'No'], ['3rd', 'Female', 'Child', 'No'], ['3rd', 'Female', 'Child', 'No'], ['3rd', 'Female', 'Child', 'No'], ['3rd', 'Female', 'Child', 'No'], ['3rd', 'Female', 'Child', 'No'], ['3rd', 'Female', 'Child', 'No'], ['3rd', 'Female', 'Child', 'No'], ['3rd', 'Female', 'Child', 'No'], ['3rd', 'Female', 'Child', 'No'], ['3rd', 'Female', 'Child', 'No'], ['3rd', 'Female', 'Child', 'No'], ['3rd', 'Female', 'Child', 'No'], ['3rd', 'Female', 'Child', 'No'], ['3rd', 'Female', 'Child', 'No'], ['3rd', 'Female', 'Child', 'No'], ['3rd', 'Female', 'Child', 'No'], ['3rd', 'Female', 'Child', 'No'], ['1st', 'Male', 'Adult', 'No'], ['1st', 'Male', 'Adult', 'No'], ['1st', 'Male', 'Adult', 'No'], ['1st', 'Male', 'Adult', 'No'], ['1st', 'Male', 'Adult', 'No'], ['1st', 'Male', 'Adult', 'No'], ['1st', 'Male', 'Adult', 'No'], ['1st', 'Male', 'Adult', 'No'], ['1st', 'Male', 'Adult', 'No'], ['1st', 'Male', 'Adult', 'No'], ['1st', 'Male', 'Adult', 'No'], ['1st', 'Male', 'Adult', 'No'], ['1st', 'Male', 'Adult', 'No'], ['1st', 'Male', 'Adult', 'No'], ['1st', 'Male', 'Adult', 'No'], ['1st', 'Male', 'Adult', 'No'], ['1st', 'Male', 'Adult', 'No'], ['1st', 'Male', 'Adult', 'No'], ['1st', 'Male', 'Adult', 'No'], ['1st', 'Male', 'Adult', 'No'], ['1st', 'Male', 'Adult', 'No'], ['1st', 'Male', 'Adult', 'No'], ['1st', 'Male', 'Adult', 'No'], ['1st', 'Male', 'Adult', 'No'], ['1st', 'Male', 'Adult', 'No'], ['1st', 'Male', 'Adult', 'No'], ['1st', 'Male', 'Adult', 'No'], ['1st', 'Male', 'Adult', 'No'], ['1st', 'Male', 'Adult', 'No'], ['1st', 'Male', 'Adult', 'No'], ['1st', 'Male', 'Adult', 'No'], ['1st', 'Male', 'Adult', 'No'], ['1st', 'Male', 'Adult', 'No'], ['1st', 'Male', 'Adult', 'No'], ['1st', 'Male', 'Adult', 'No'], ['1st', 'Male', 'Adult', 'No'], ['1st', 'Male', 'Adult', 'No'], ['1st', 'Male', 'Adult', 'No'], ['1st', 'Male', 'Adult', 'No'], ['1st', 'Male', 'Adult', 'No'], ['1st', 'Male', 'Adult', 'No'], ['1st', 'Male', 'Adult', 'No'], ['1st', 'Male', 'Adult', 'No'], ['1st', 'Male', 'Adult', 'No'], ['1st', 'Male', 'Adult', 'No'], ['1st', 'Male', 'Adult', 'No'], ['1st', 'Male', 'Adult', 'No'], ['1st', 'Male', 'Adult', 'No'], ['1st', 'Male', 'Adult', 'No'], ['1st', 'Male', 'Adult', 'No'], ['1st', 'Male', 'Adult', 'No'], ['1st', 'Male', 'Adult', 'No'], ['1st', 'Male', 'Adult', 'No'], ['1st', 'Male', 'Adult', 'No'], ['1st', 'Male', 'Adult', 'No'], ['1st', 'Male', 'Adult', 'No'], ['1st', 'Male', 'Adult', 'No'], ['1st', 'Male', 'Adult', 'No'], ['1st', 'Male', 'Adult', 'No'], ['1st', 'Male', 'Adult', 'No'], ['1st', 'Male', 'Adult', 'No'], ['1st', 'Male', 'Adult', 'No'], ['1st', 'Male', 'Adult', 'No'], ['1st', 'Male', 'Adult', 'No'], ['1st', 'Male', 'Adult', 'No'], ['1st', 'Male', 'Adult', 'No'], ['1st', 'Male', 'Adult', 'No'], ['1st', 'Male', 'Adult', 'No'], ['1st', 'Male', 'Adult', 'No'], ['1st', 'Male', 'Adult', 'No'], ['1st', 'Male', 'Adult', 'No'], ['1st', 'Male', 'Adult', 'No'], ['1st', 'Male', 'Adult', 'No'], ['1st', 'Male', 'Adult', 'No'], ['1st', 'Male', 'Adult', 'No'], ['1st', 'Male', 'Adult', 'No'], ['1st', 'Male', 'Adult', 'No'], ['1st', 'Male', 'Adult', 'No'], ['1st', 'Male', 'Adult', 'No'], ['1st', 'Male', 'Adult', 'No'], ['1st', 'Male', 'Adult', 'No'], ['1st', 'Male', 'Adult', 'No'], ['1st', 'Male', 'Adult', 'No'], ['1st', 'Male', 'Adult', 'No'], ['1st', 'Male', 'Adult', 'No'], ['1st', 'Male', 'Adult', 'No'], ['1st', 'Male', 'Adult', 'No'], ['1st', 'Male', 'Adult', 'No'], ['1st', 'Male', 'Adult', 'No'], ['1st', 'Male', 'Adult', 'No'], ['1st', 'Male', 'Adult', 'No'], ['1st', 'Male', 'Adult', 'No'], ['1st', 'Male', 'Adult', 'No'], ['1st', 'Male', 'Adult', 'No'], ['1st', 'Male', 'Adult', 'No'], ['1st', 'Male', 'Adult', 'No'], ['1st', 'Male', 'Adult', 'No'], ['1st', 'Male', 'Adult', 'No'], ['1st', 'Male', 'Adult', 'No'], ['1st', 'Male', 'Adult', 'No'], ['1st', 'Male', 'Adult', 'No'], ['1st', 'Male', 'Adult', 'No'], ['1st', 'Male', 'Adult', 'No'], ['1st', 'Male', 'Adult', 'No'], ['1st', 'Male', 'Adult', 'No'], ['1st', 'Male', 'Adult', 'No'], ['1st', 'Male', 'Adult', 'No'], ['1st', 'Male', 'Adult', 'No'], ['1st', 'Male', 'Adult', 'No'], ['1st', 'Male', 'Adult', 'No'], ['1st', 'Male', 'Adult', 'No'], ['1st', 'Male', 'Adult', 'No'], ['1st', 'Male', 'Adult', 'No'], ['1st', 'Male', 'Adult', 'No'], ['1st', 'Male', 'Adult', 'No'], ['1st', 'Male', 'Adult', 'No'], ['1st', 'Male', 'Adult', 'No'], ['1st', 'Male', 'Adult', 'No'], ['2nd', 'Male', 'Adult', 'No'], ['2nd', 'Male', 'Adult', 'No'], ['2nd', 'Male', 'Adult', 'No'], ['2nd', 'Male', 'Adult', 'No'], ['2nd', 'Male', 'Adult', 'No'], ['2nd', 'Male', 'Adult', 'No'], ['2nd', 'Male', 'Adult', 'No'], ['2nd', 'Male', 'Adult', 'No'], ['2nd', 'Male', 'Adult', 'No'], ['2nd', 'Male', 'Adult', 'No'], ['2nd', 'Male', 'Adult', 'No'], ['2nd', 'Male', 'Adult', 'No'], ['2nd', 'Male', 'Adult', 'No'], ['2nd', 'Male', 'Adult', 'No'], ['2nd', 'Male', 'Adult', 'No'], ['2nd', 'Male', 'Adult', 'No'], ['2nd', 'Male', 'Adult', 'No'], ['2nd', 'Male', 'Adult', 'No'], ['2nd', 'Male', 'Adult', 'No'], ['2nd', 'Male', 'Adult', 'No'], ['2nd', 'Male', 'Adult', 'No'], ['2nd', 'Male', 'Adult', 'No'], ['2nd', 'Male', 'Adult', 'No'], ['2nd', 'Male', 'Adult', 'No'], ['2nd', 'Male', 'Adult', 'No'], ['2nd', 'Male', 'Adult', 'No'], ['2nd', 'Male', 'Adult', 'No'], ['2nd', 'Male', 'Adult', 'No'], ['2nd', 'Male', 'Adult', 'No'], ['2nd', 'Male', 'Adult', 'No'], ['2nd', 'Male', 'Adult', 'No'], ['2nd', 'Male', 'Adult', 'No'], ['2nd', 'Male', 'Adult', 'No'], ['2nd', 'Male', 'Adult', 'No'], ['2nd', 'Male', 'Adult', 'No'], ['2nd', 'Male', 'Adult', 'No'], ['2nd', 'Male', 'Adult', 'No'], ['2nd', 'Male', 'Adult', 'No'], ['2nd', 'Male', 'Adult', 'No'], ['2nd', 'Male', 'Adult', 'No'], ['2nd', 'Male', 'Adult', 'No'], ['2nd', 'Male', 'Adult', 'No'], ['2nd', 'Male', 'Adult', 'No'], ['2nd', 'Male', 'Adult', 'No'], ['2nd', 'Male', 'Adult', 'No'], ['2nd', 'Male', 'Adult', 'No'], ['2nd', 'Male', 'Adult', 'No'], ['2nd', 'Male', 'Adult', 'No'], ['2nd', 'Male', 'Adult', 'No'], ['2nd', 'Male', 'Adult', 'No'], ['2nd', 'Male', 'Adult', 'No'], ['2nd', 'Male', 'Adult', 'No'], ['2nd', 'Male', 'Adult', 'No'], ['2nd', 'Male', 'Adult', 'No'], ['2nd', 'Male', 'Adult', 'No'], ['2nd', 'Male', 'Adult', 'No'], ['2nd', 'Male', 'Adult', 'No'], ['2nd', 'Male', 'Adult', 'No'], ['2nd', 'Male', 'Adult', 'No'], ['2nd', 'Male', 'Adult', 'No'], ['2nd', 'Male', 'Adult', 'No'], ['2nd', 'Male', 'Adult', 'No'], ['2nd', 'Male', 'Adult', 'No'], ['2nd', 'Male', 'Adult', 'No'], ['2nd', 'Male', 'Adult', 'No'], ['2nd', 'Male', 'Adult', 'No'], ['2nd', 'Male', 'Adult', 'No'], ['2nd', 'Male', 'Adult', 'No'], ['2nd', 'Male', 'Adult', 'No'], ['2nd', 'Male', 'Adult', 'No'], ['2nd', 'Male', 'Adult', 'No'], ['2nd', 'Male', 'Adult', 'No'], ['2nd', 'Male', 'Adult', 'No'], ['2nd', 'Male', 'Adult', 'No'], ['2nd', 'Male', 'Adult', 'No'], ['2nd', 'Male', 'Adult', 'No'], ['2nd', 'Male', 'Adult', 'No'], ['2nd', 'Male', 'Adult', 'No'], ['2nd', 'Male', 'Adult', 'No'], ['2nd', 'Male', 'Adult', 'No'], ['2nd', 'Male', 'Adult', 'No'], ['2nd', 'Male', 'Adult', 'No'], ['2nd', 'Male', 'Adult', 'No'], ['2nd', 'Male', 'Adult', 'No'], ['2nd', 'Male', 'Adult', 'No'], ['2nd', 'Male', 'Adult', 'No'], ['2nd', 'Male', 'Adult', 'No'], ['2nd', 'Male', 'Adult', 'No'], ['2nd', 'Male', 'Adult', 'No'], ['2nd', 'Male', 'Adult', 'No'], ['2nd', 'Male', 'Adult', 'No'], ['2nd', 'Male', 'Adult', 'No'], ['2nd', 'Male', 'Adult', 'No'], ['2nd', 'Male', 'Adult', 'No'], ['2nd', 'Male', 'Adult', 'No'], ['2nd', 'Male', 'Adult', 'No'], ['2nd', 'Male', 'Adult', 'No'], ['2nd', 'Male', 'Adult', 'No'], ['2nd', 'Male', 'Adult', 'No'], ['2nd', 'Male', 'Adult', 'No'], ['2nd', 'Male', 'Adult', 'No'], ['2nd', 'Male', 'Adult', 'No'], ['2nd', 'Male', 'Adult', 'No'], ['2nd', 'Male', 'Adult', 'No'], ['2nd', 'Male', 'Adult', 'No'], ['2nd', 'Male', 'Adult', 'No'], ['2nd', 'Male', 'Adult', 'No'], ['2nd', 'Male', 'Adult', 'No'], ['2nd', 'Male', 'Adult', 'No'], ['2nd', 'Male', 'Adult', 'No'], ['2nd', 'Male', 'Adult', 'No'], ['2nd', 'Male', 'Adult', 'No'], ['2nd', 'Male', 'Adult', 'No'], ['2nd', 'Male', 'Adult', 'No'], ['2nd', 'Male', 'Adult', 'No'], ['2nd', 'Male', 'Adult', 'No'], ['2nd', 'Male', 'Adult', 'No'], ['2nd', 'Male', 'Adult', 'No'], ['2nd', 'Male', 'Adult', 'No'], ['2nd', 'Male', 'Adult', 'No'], ['2nd', 'Male', 'Adult', 'No'], ['2nd', 'Male', 'Adult', 'No'], ['2nd', 'Male', 'Adult', 'No'], ['2nd', 'Male', 'Adult', 'No'], ['2nd', 'Male', 'Adult', 'No'], ['2nd', 'Male', 'Adult', 'No'], ['2nd', 'Male', 'Adult', 'No'], ['2nd', 'Male', 'Adult', 'No'], ['2nd', 'Male', 'Adult', 'No'], ['2nd', 'Male', 'Adult', 'No'], ['2nd', 'Male', 'Adult', 'No'], ['2nd', 'Male', 'Adult', 'No'], ['2nd', 'Male', 'Adult', 'No'], ['2nd', 'Male', 'Adult', 'No'], ['2nd', 'Male', 'Adult', 'No'], ['2nd', 'Male', 'Adult', 'No'], ['2nd', 'Male', 'Adult', 'No'], ['2nd', 'Male', 'Adult', 'No'], ['2nd', 'Male', 'Adult', 'No'], ['2nd', 'Male', 'Adult', 'No'], ['2nd', 'Male', 'Adult', 'No'], ['2nd', 'Male', 'Adult', 'No'], ['2nd', 'Male', 'Adult', 'No'], ['2nd', 'Male', 'Adult', 'No'], ['2nd', 'Male', 'Adult', 'No'], ['2nd', 'Male', 'Adult', 'No'], ['2nd', 'Male', 'Adult', 'No'], ['2nd', 'Male', 'Adult', 'No'], ['2nd', 'Male', 'Adult', 'No'], ['2nd', 'Male', 'Adult', 'No'], ['2nd', 'Male', 'Adult', 'No'], ['2nd', 'Male', 'Adult', 'No'], ['2nd', 'Male', 'Adult', 'No'], ['2nd', 'Male', 'Adult', 'No'], ['3rd', 'Male', 'Adult', 'No'], ['3rd', 'Male', 'Adult', 'No'], ['3rd', 'Male', 'Adult', 'No'], ['3rd', 'Male', 'Adult', 'No'], ['3rd', 'Male', 'Adult', 'No'], ['3rd', 'Male', 'Adult', 'No'], ['3rd', 'Male', 'Adult', 'No'], ['3rd', 'Male', 'Adult', 'No'], ['3rd', 'Male', 'Adult', 'No'], ['3rd', 'Male', 'Adult', 'No'], ['3rd', 'Male', 'Adult', 'No'], ['3rd', 'Male', 'Adult', 'No'], ['3rd', 'Male', 'Adult', 'No'], ['3rd', 'Male', 'Adult', 'No'], ['3rd', 'Male', 'Adult', 'No'], ['3rd', 'Male', 'Adult', 'No'], ['3rd', 'Male', 'Adult', 'No'], ['3rd', 'Male', 'Adult', 'No'], ['3rd', 'Male', 'Adult', 'No'], ['3rd', 'Male', 'Adult', 'No'], ['3rd', 'Male', 'Adult', 'No'], ['3rd', 'Male', 'Adult', 'No'], ['3rd', 'Male', 'Adult', 'No'], ['3rd', 'Male', 'Adult', 'No'], ['3rd', 'Male', 'Adult', 'No'], ['3rd', 'Male', 'Adult', 'No'], ['3rd', 'Male', 'Adult', 'No'], ['3rd', 'Male', 'Adult', 'No'], ['3rd', 'Male', 'Adult', 'No'], ['3rd', 'Male', 'Adult', 'No'], ['3rd', 'Male', 'Adult', 'No'], ['3rd', 'Male', 'Adult', 'No'], ['3rd', 'Male', 'Adult', 'No'], ['3rd', 'Male', 'Adult', 'No'], ['3rd', 'Male', 'Adult', 'No'], ['3rd', 'Male', 'Adult', 'No'], ['3rd', 'Male', 'Adult', 'No'], ['3rd', 'Male', 'Adult', 'No'], ['3rd', 'Male', 'Adult', 'No'], ['3rd', 'Male', 'Adult', 'No'], ['3rd', 'Male', 'Adult', 'No'], ['3rd', 'Male', 'Adult', 'No'], ['3rd', 'Male', 'Adult', 'No'], ['3rd', 'Male', 'Adult', 'No'], ['3rd', 'Male', 'Adult', 'No'], ['3rd', 'Male', 'Adult', 'No'], ['3rd', 'Male', 'Adult', 'No'], ['3rd', 'Male', 'Adult', 'No'], ['3rd', 'Male', 'Adult', 'No'], ['3rd', 'Male', 'Adult', 'No'], ['3rd', 'Male', 'Adult', 'No'], ['3rd', 'Male', 'Adult', 'No'], ['3rd', 'Male', 'Adult', 'No'], ['3rd', 'Male', 'Adult', 'No'], ['3rd', 'Male', 'Adult', 'No'], ['3rd', 'Male', 'Adult', 'No'], ['3rd', 'Male', 'Adult', 'No'], ['3rd', 'Male', 'Adult', 'No'], ['3rd', 'Male', 'Adult', 'No'], ['3rd', 'Male', 'Adult', 'No'], ['3rd', 'Male', 'Adult', 'No'], ['3rd', 'Male', 'Adult', 'No'], ['3rd', 'Male', 'Adult', 'No'], ['3rd', 'Male', 'Adult', 'No'], ['3rd', 'Male', 'Adult', 'No'], ['3rd', 'Male', 'Adult', 'No'], ['3rd', 'Male', 'Adult', 'No'], ['3rd', 'Male', 'Adult', 'No'], ['3rd', 'Male', 'Adult', 'No'], ['3rd', 'Male', 'Adult', 'No'], ['3rd', 'Male', 'Adult', 'No'], ['3rd', 'Male', 'Adult', 'No'], ['3rd', 'Male', 'Adult', 'No'], ['3rd', 'Male', 'Adult', 'No'], ['3rd', 'Male', 'Adult', 'No'], ['3rd', 'Male', 'Adult', 'No'], ['3rd', 'Male', 'Adult', 'No'], ['3rd', 'Male', 'Adult', 'No'], ['3rd', 'Male', 'Adult', 'No'], ['3rd', 'Male', 'Adult', 'No'], ['3rd', 'Male', 'Adult', 'No'], ['3rd', 'Male', 'Adult', 'No'], ['3rd', 'Male', 'Adult', 'No'], ['3rd', 'Male', 'Adult', 'No'], ['3rd', 'Male', 'Adult', 'No'], ['3rd', 'Male', 'Adult', 'No'], ['3rd', 'Male', 'Adult', 'No'], ['3rd', 'Male', 'Adult', 'No'], ['3rd', 'Male', 'Adult', 'No'], ['3rd', 'Male', 'Adult', 'No'], ['3rd', 'Male', 'Adult', 'No'], ['3rd', 'Male', 'Adult', 'No'], ['3rd', 'Male', 'Adult', 'No'], ['3rd', 'Male', 'Adult', 'No'], ['3rd', 'Male', 'Adult', 'No'], ['3rd', 'Male', 'Adult', 'No'], ['3rd', 'Male', 'Adult', 'No'], ['3rd', 'Male', 'Adult', 'No'], ['3rd', 'Male', 'Adult', 'No'], ['3rd', 'Male', 'Adult', 'No'], ['3rd', 'Male', 'Adult', 'No'], ['3rd', 'Male', 'Adult', 'No'], ['3rd', 'Male', 'Adult', 'No'], ['3rd', 'Male', 'Adult', 'No'], ['3rd', 'Male', 'Adult', 'No'], ['3rd', 'Male', 'Adult', 'No'], ['3rd', 'Male', 'Adult', 'No'], ['3rd', 'Male', 'Adult', 'No'], ['3rd', 'Male', 'Adult', 'No'], ['3rd', 'Male', 'Adult', 'No'], ['3rd', 'Male', 'Adult', 'No'], ['3rd', 'Male', 'Adult', 'No'], ['3rd', 'Male', 'Adult', 'No'], ['3rd', 'Male', 'Adult', 'No'], ['3rd', 'Male', 'Adult', 'No'], ['3rd', 'Male', 'Adult', 'No'], ['3rd', 'Male', 'Adult', 'No'], ['3rd', 'Male', 'Adult', 'No'], ['3rd', 'Male', 'Adult', 'No'], ['3rd', 'Male', 'Adult', 'No'], ['3rd', 'Male', 'Adult', 'No'], ['3rd', 'Male', 'Adult', 'No'], ['3rd', 'Male', 'Adult', 'No'], ['3rd', 'Male', 'Adult', 'No'], ['3rd', 'Male', 'Adult', 'No'], ['3rd', 'Male', 'Adult', 'No'], ['3rd', 'Male', 'Adult', 'No'], ['3rd', 'Male', 'Adult', 'No'], ['3rd', 'Male', 'Adult', 'No'], ['3rd', 'Male', 'Adult', 'No'], ['3rd', 'Male', 'Adult', 'No'], ['3rd', 'Male', 'Adult', 'No'], ['3rd', 'Male', 'Adult', 'No'], ['3rd', 'Male', 'Adult', 'No'], ['3rd', 'Male', 'Adult', 'No'], ['3rd', 'Male', 'Adult', 'No'], ['3rd', 'Male', 'Adult', 'No'], ['3rd', 'Male', 'Adult', 'No'], ['3rd', 'Male', 'Adult', 'No'], ['3rd', 'Male', 'Adult', 'No'], ['3rd', 'Male', 'Adult', 'No'], ['3rd', 'Male', 'Adult', 'No'], ['3rd', 'Male', 'Adult', 'No'], ['3rd', 'Male', 'Adult', 'No'], ['3rd', 'Male', 'Adult', 'No'], ['3rd', 'Male', 'Adult', 'No'], ['3rd', 'Male', 'Adult', 'No'], ['3rd', 'Male', 'Adult', 'No'], ['3rd', 'Male', 'Adult', 'No'], ['3rd', 'Male', 'Adult', 'No'], ['3rd', 'Male', 'Adult', 'No'], ['3rd', 'Male', 'Adult', 'No'], ['3rd', 'Male', 'Adult', 'No'], ['3rd', 'Male', 'Adult', 'No'], ['3rd', 'Male', 'Adult', 'No'], ['3rd', 'Male', 'Adult', 'No'], ['3rd', 'Male', 'Adult', 'No'], ['3rd', 'Male', 'Adult', 'No'], ['3rd', 'Male', 'Adult', 'No'], ['3rd', 'Male', 'Adult', 'No'], ['3rd', 'Male', 'Adult', 'No'], ['3rd', 'Male', 'Adult', 'No'], ['3rd', 'Male', 'Adult', 'No'], ['3rd', 'Male', 'Adult', 'No'], ['3rd', 'Male', 'Adult', 'No'], ['3rd', 'Male', 'Adult', 'No'], ['3rd', 'Male', 'Adult', 'No'], ['3rd', 'Male', 'Adult', 'No'], ['3rd', 'Male', 'Adult', 'No'], ['3rd', 'Male', 'Adult', 'No'], ['3rd', 'Male', 'Adult', 'No'], ['3rd', 'Male', 'Adult', 'No'], ['3rd', 'Male', 'Adult', 'No'], ['3rd', 'Male', 'Adult', 'No'], ['3rd', 'Male', 'Adult', 'No'], ['3rd', 'Male', 'Adult', 'No'], ['3rd', 'Male', 'Adult', 'No'], ['3rd', 'Male', 'Adult', 'No'], ['3rd', 'Male', 'Adult', 'No'], ['3rd', 'Male', 'Adult', 'No'], ['3rd', 'Male', 'Adult', 'No'], ['3rd', 'Male', 'Adult', 'No'], ['3rd', 'Male', 'Adult', 'No'], ['3rd', 'Male', 'Adult', 'No'], ['3rd', 'Male', 'Adult', 'No'], ['3rd', 'Male', 'Adult', 'No'], ['3rd', 'Male', 'Adult', 'No'], ['3rd', 'Male', 'Adult', 'No'], ['3rd', 'Male', 'Adult', 'No'], ['3rd', 'Male', 'Adult', 'No'], ['3rd', 'Male', 'Adult', 'No'], ['3rd', 'Male', 'Adult', 'No'], ['3rd', 'Male', 'Adult', 'No'], ['3rd', 'Male', 'Adult', 'No'], ['3rd', 'Male', 'Adult', 'No'], ['3rd', 'Male', 'Adult', 'No'], ['3rd', 'Male', 'Adult', 'No'], ['3rd', 'Male', 'Adult', 'No'], ['3rd', 'Male', 'Adult', 'No'], ['3rd', 'Male', 'Adult', 'No'], ['3rd', 'Male', 'Adult', 'No'], ['3rd', 'Male', 'Adult', 'No'], ['3rd', 'Male', 'Adult', 'No'], ['3rd', 'Male', 'Adult', 'No'], ['3rd', 'Male', 'Adult', 'No'], ['3rd', 'Male', 'Adult', 'No'], ['3rd', 'Male', 'Adult', 'No'], ['3rd', 'Male', 'Adult', 'No'], ['3rd', 'Male', 'Adult', 'No'], ['3rd', 'Male', 'Adult', 'No'], ['3rd', 'Male', 'Adult', 'No'], ['3rd', 'Male', 'Adult', 'No'], ['3rd', 'Male', 'Adult', 'No'], ['3rd', 'Male', 'Adult', 'No'], ['3rd', 'Male', 'Adult', 'No'], ['3rd', 'Male', 'Adult', 'No'], ['3rd', 'Male', 'Adult', 'No'], ['3rd', 'Male', 'Adult', 'No'], ['3rd', 'Male', 'Adult', 'No'], ['3rd', 'Male', 'Adult', 'No'], ['3rd', 'Male', 'Adult', 'No'], ['3rd', 'Male', 'Adult', 'No'], ['3rd', 'Male', 'Adult', 'No'], ['3rd', 'Male', 'Adult', 'No'], ['3rd', 'Male', 'Adult', 'No'], ['3rd', 'Male', 'Adult', 'No'], ['3rd', 'Male', 'Adult', 'No'], ['3rd', 'Male', 'Adult', 'No'], ['3rd', 'Male', 'Adult', 'No'], ['3rd', 'Male', 'Adult', 'No'], ['3rd', 'Male', 'Adult', 'No'], ['3rd', 'Male', 'Adult', 'No'], ['3rd', 'Male', 'Adult', 'No'], ['3rd', 'Male', 'Adult', 'No'], ['3rd', 'Male', 'Adult', 'No'], ['3rd', 'Male', 'Adult', 'No'], ['3rd', 'Male', 'Adult', 'No'], ['3rd', 'Male', 'Adult', 'No'], ['3rd', 'Male', 'Adult', 'No'], ['3rd', 'Male', 'Adult', 'No'], ['3rd', 'Male', 'Adult', 'No'], ['3rd', 'Male', 'Adult', 'No'], ['3rd', 'Male', 'Adult', 'No'], ['3rd', 'Male', 'Adult', 'No'], ['3rd', 'Male', 'Adult', 'No'], ['3rd', 'Male', 'Adult', 'No'], ['3rd', 'Male', 'Adult', 'No'], ['3rd', 'Male', 'Adult', 'No'], ['3rd', 'Male', 'Adult', 'No'], ['3rd', 'Male', 'Adult', 'No'], ['3rd', 'Male', 'Adult', 'No'], ['3rd', 'Male', 'Adult', 'No'], ['3rd', 'Male', 'Adult', 'No'], ['3rd', 'Male', 'Adult', 'No'], ['3rd', 'Male', 'Adult', 'No'], ['3rd', 'Male', 'Adult', 'No'], ['3rd', 'Male', 'Adult', 'No'], ['3rd', 'Male', 'Adult', 'No'], ['3rd', 'Male', 'Adult', 'No'], ['3rd', 'Male', 'Adult', 'No'], ['3rd', 'Male', 'Adult', 'No'], ['3rd', 'Male', 'Adult', 'No'], ['3rd', 'Male', 'Adult', 'No'], ['3rd', 'Male', 'Adult', 'No'], ['3rd', 'Male', 'Adult', 'No'], ['3rd', 'Male', 'Adult', 'No'], ['3rd', 'Male', 'Adult', 'No'], ['3rd', 'Male', 'Adult', 'No'], ['3rd', 'Male', 'Adult', 'No'], ['3rd', 'Male', 'Adult', 'No'], ['3rd', 'Male', 'Adult', 'No'], ['3rd', 'Male', 'Adult', 'No'], ['3rd', 'Male', 'Adult', 'No'], ['3rd', 'Male', 'Adult', 'No'], ['3rd', 'Male', 'Adult', 'No'], ['3rd', 'Male', 'Adult', 'No'], ['3rd', 'Male', 'Adult', 'No'], ['3rd', 'Male', 'Adult', 'No'], ['3rd', 'Male', 'Adult', 'No'], ['3rd', 'Male', 'Adult', 'No'], ['3rd', 'Male', 'Adult', 'No'], ['3rd', 'Male', 'Adult', 'No'], ['3rd', 'Male', 'Adult', 'No'], ['3rd', 'Male', 'Adult', 'No'], ['3rd', 'Male', 'Adult', 'No'], ['3rd', 'Male', 'Adult', 'No'], ['3rd', 'Male', 'Adult', 'No'], ['3rd', 'Male', 'Adult', 'No'], ['3rd', 'Male', 'Adult', 'No'], ['3rd', 'Male', 'Adult', 'No'], ['3rd', 'Male', 'Adult', 'No'], ['3rd', 'Male', 'Adult', 'No'], ['3rd', 'Male', 'Adult', 'No'], ['3rd', 'Male', 'Adult', 'No'], ['3rd', 'Male', 'Adult', 'No'], ['3rd', 'Male', 'Adult', 'No'], ['3rd', 'Male', 'Adult', 'No'], ['3rd', 'Male', 'Adult', 'No'], ['3rd', 'Male', 'Adult', 'No'], ['3rd', 'Male', 'Adult', 'No'], ['3rd', 'Male', 'Adult', 'No'], ['3rd', 'Male', 'Adult', 'No'], ['3rd', 'Male', 'Adult', 'No'], ['3rd', 'Male', 'Adult', 'No'], ['3rd', 'Male', 'Adult', 'No'], ['3rd', 'Male', 'Adult', 'No'], ['3rd', 'Male', 'Adult', 'No'], ['3rd', 'Male', 'Adult', 'No'], ['3rd', 'Male', 'Adult', 'No'], ['3rd', 'Male', 'Adult', 'No'], ['3rd', 'Male', 'Adult', 'No'], ['3rd', 'Male', 'Adult', 'No'], ['3rd', 'Male', 'Adult', 'No'], ['3rd', 'Male', 'Adult', 'No'], ['3rd', 'Male', 'Adult', 'No'], ['3rd', 'Male', 'Adult', 'No'], ['3rd', 'Male', 'Adult', 'No'], ['3rd', 'Male', 'Adult', 'No'], ['3rd', 'Male', 'Adult', 'No'], ['3rd', 'Male', 'Adult', 'No'], ['3rd', 'Male', 'Adult', 'No'], ['3rd', 'Male', 'Adult', 'No'], ['3rd', 'Male', 'Adult', 'No'], ['3rd', 'Male', 'Adult', 'No'], ['3rd', 'Male', 'Adult', 'No'], ['3rd', 'Male', 'Adult', 'No'], ['3rd', 'Male', 'Adult', 'No'], ['3rd', 'Male', 'Adult', 'No'], ['3rd', 'Male', 'Adult', 'No'], ['3rd', 'Male', 'Adult', 'No'], ['3rd', 'Male', 'Adult', 'No'], ['3rd', 'Male', 'Adult', 'No'], ['3rd', 'Male', 'Adult', 'No'], ['3rd', 'Male', 'Adult', 'No'], ['3rd', 'Male', 'Adult', 'No'], ['3rd', 'Male', 'Adult', 'No'], ['3rd', 'Male', 'Adult', 'No'], ['3rd', 'Male', 'Adult', 'No'], ['3rd', 'Male', 'Adult', 'No'], ['3rd', 'Male', 'Adult', 'No'], ['3rd', 'Male', 'Adult', 'No'], ['3rd', 'Male', 'Adult', 'No'], ['3rd', 'Male', 'Adult', 'No'], ['3rd', 'Male', 'Adult', 'No'], ['3rd', 'Male', 'Adult', 'No'], ['3rd', 'Male', 'Adult', 'No'], ['3rd', 'Male', 'Adult', 'No'], ['3rd', 'Male', 'Adult', 'No'], ['3rd', 'Male', 'Adult', 'No'], ['3rd', 'Male', 'Adult', 'No'], ['3rd', 'Male', 'Adult', 'No'], ['3rd', 'Male', 'Adult', 'No'], ['3rd', 'Male', 'Adult', 'No'], ['3rd', 'Male', 'Adult', 'No'], ['3rd', 'Male', 'Adult', 'No'], ['3rd', 'Male', 'Adult', 'No'], ['3rd', 'Male', 'Adult', 'No'], ['3rd', 'Male', 'Adult', 'No'], ['3rd', 'Male', 'Adult', 'No'], ['3rd', 'Male', 'Adult', 'No'], ['3rd', 'Male', 'Adult', 'No'], ['3rd', 'Male', 'Adult', 'No'], ['3rd', 'Male', 'Adult', 'No'], ['3rd', 'Male', 'Adult', 'No'], ['3rd', 'Male', 'Adult', 'No'], ['3rd', 'Male', 'Adult', 'No'], ['3rd', 'Male', 'Adult', 'No'], ['3rd', 'Male', 'Adult', 'No'], ['3rd', 'Male', 'Adult', 'No'], ['3rd', 'Male', 'Adult', 'No'], ['3rd', 'Male', 'Adult', 'No'], ['3rd', 'Male', 'Adult', 'No'], ['3rd', 'Male', 'Adult', 'No'], ['3rd', 'Male', 'Adult', 'No'], ['3rd', 'Male', 'Adult', 'No'], ['3rd', 'Male', 'Adult', 'No'], ['3rd', 'Male', 'Adult', 'No'], ['3rd', 'Male', 'Adult', 'No'], ['3rd', 'Male', 'Adult', 'No'], ['3rd', 'Male', 'Adult', 'No'], ['3rd', 'Male', 'Adult', 'No'], ['3rd', 'Male', 'Adult', 'No'], ['3rd', 'Male', 'Adult', 'No'], ['3rd', 'Male', 'Adult', 'No'], ['3rd', 'Male', 'Adult', 'No'], ['3rd', 'Male', 'Adult', 'No'], ['3rd', 'Male', 'Adult', 'No'], ['Crew', 'Male', 'Adult', 'No'], ['Crew', 'Male', 'Adult', 'No'], ['Crew', 'Male', 'Adult', 'No'], ['Crew', 'Male', 'Adult', 'No'], ['Crew', 'Male', 'Adult', 'No'], ['Crew', 'Male', 'Adult', 'No'], ['Crew', 'Male', 'Adult', 'No'], ['Crew', 'Male', 'Adult', 'No'], ['Crew', 'Male', 'Adult', 'No'], ['Crew', 'Male', 'Adult', 'No'], ['Crew', 'Male', 'Adult', 'No'], ['Crew', 'Male', 'Adult', 'No'], ['Crew', 'Male', 'Adult', 'No'], ['Crew', 'Male', 'Adult', 'No'], ['Crew', 'Male', 'Adult', 'No'], ['Crew', 'Male', 'Adult', 'No'], ['Crew', 'Male', 'Adult', 'No'], ['Crew', 'Male', 'Adult', 'No'], ['Crew', 'Male', 'Adult', 'No'], ['Crew', 'Male', 'Adult', 'No'], ['Crew', 'Male', 'Adult', 'No'], ['Crew', 'Male', 'Adult', 'No'], ['Crew', 'Male', 'Adult', 'No'], ['Crew', 'Male', 'Adult', 'No'], ['Crew', 'Male', 'Adult', 'No'], ['Crew', 'Male', 'Adult', 'No'], ['Crew', 'Male', 'Adult', 'No'], ['Crew', 'Male', 'Adult', 'No'], ['Crew', 'Male', 'Adult', 'No'], ['Crew', 'Male', 'Adult', 'No'], ['Crew', 'Male', 'Adult', 'No'], ['Crew', 'Male', 'Adult', 'No'], ['Crew', 'Male', 'Adult', 'No'], ['Crew', 'Male', 'Adult', 'No'], ['Crew', 'Male', 'Adult', 'No'], ['Crew', 'Male', 'Adult', 'No'], ['Crew', 'Male', 'Adult', 'No'], ['Crew', 'Male', 'Adult', 'No'], ['Crew', 'Male', 'Adult', 'No'], ['Crew', 'Male', 'Adult', 'No'], ['Crew', 'Male', 'Adult', 'No'], ['Crew', 'Male', 'Adult', 'No'], ['Crew', 'Male', 'Adult', 'No'], ['Crew', 'Male', 'Adult', 'No'], ['Crew', 'Male', 'Adult', 'No'], ['Crew', 'Male', 'Adult', 'No'], ['Crew', 'Male', 'Adult', 'No'], ['Crew', 'Male', 'Adult', 'No'], ['Crew', 'Male', 'Adult', 'No'], ['Crew', 'Male', 'Adult', 'No'], ['Crew', 'Male', 'Adult', 'No'], ['Crew', 'Male', 'Adult', 'No'], ['Crew', 'Male', 'Adult', 'No'], ['Crew', 'Male', 'Adult', 'No'], ['Crew', 'Male', 'Adult', 'No'], ['Crew', 'Male', 'Adult', 'No'], ['Crew', 'Male', 'Adult', 'No'], ['Crew', 'Male', 'Adult', 'No'], ['Crew', 'Male', 'Adult', 'No'], ['Crew', 'Male', 'Adult', 'No'], ['Crew', 'Male', 'Adult', 'No'], ['Crew', 'Male', 'Adult', 'No'], ['Crew', 'Male', 'Adult', 'No'], ['Crew', 'Male', 'Adult', 'No'], ['Crew', 'Male', 'Adult', 'No'], ['Crew', 'Male', 'Adult', 'No'], ['Crew', 'Male', 'Adult', 'No'], ['Crew', 'Male', 'Adult', 'No'], ['Crew', 'Male', 'Adult', 'No'], ['Crew', 'Male', 'Adult', 'No'], ['Crew', 'Male', 'Adult', 'No'], ['Crew', 'Male', 'Adult', 'No'], ['Crew', 'Male', 'Adult', 'No'], ['Crew', 'Male', 'Adult', 'No'], ['Crew', 'Male', 'Adult', 'No'], ['Crew', 'Male', 'Adult', 'No'], ['Crew', 'Male', 'Adult', 'No'], ['Crew', 'Male', 'Adult', 'No'], ['Crew', 'Male', 'Adult', 'No'], ['Crew', 'Male', 'Adult', 'No'], ['Crew', 'Male', 'Adult', 'No'], ['Crew', 'Male', 'Adult', 'No'], ['Crew', 'Male', 'Adult', 'No'], ['Crew', 'Male', 'Adult', 'No'], ['Crew', 'Male', 'Adult', 'No'], ['Crew', 'Male', 'Adult', 'No'], ['Crew', 'Male', 'Adult', 'No'], ['Crew', 'Male', 'Adult', 'No'], ['Crew', 'Male', 'Adult', 'No'], ['Crew', 'Male', 'Adult', 'No'], ['Crew', 'Male', 'Adult', 'No'], ['Crew', 'Male', 'Adult', 'No'], ['Crew', 'Male', 'Adult', 'No'], ['Crew', 'Male', 'Adult', 'No'], ['Crew', 'Male', 'Adult', 'No'], ['Crew', 'Male', 'Adult', 'No'], ['Crew', 'Male', 'Adult', 'No'], ['Crew', 'Male', 'Adult', 'No'], ['Crew', 'Male', 'Adult', 'No'], ['Crew', 'Male', 'Adult', 'No'], ['Crew', 'Male', 'Adult', 'No'], ['Crew', 'Male', 'Adult', 'No'], ['Crew', 'Male', 'Adult', 'No'], ['Crew', 'Male', 'Adult', 'No'], ['Crew', 'Male', 'Adult', 'No'], ['Crew', 'Male', 'Adult', 'No'], ['Crew', 'Male', 'Adult', 'No'], ['Crew', 'Male', 'Adult', 'No'], ['Crew', 'Male', 'Adult', 'No'], ['Crew', 'Male', 'Adult', 'No'], ['Crew', 'Male', 'Adult', 'No'], ['Crew', 'Male', 'Adult', 'No'], ['Crew', 'Male', 'Adult', 'No'], ['Crew', 'Male', 'Adult', 'No'], ['Crew', 'Male', 'Adult', 'No'], ['Crew', 'Male', 'Adult', 'No'], ['Crew', 'Male', 'Adult', 'No'], ['Crew', 'Male', 'Adult', 'No'], ['Crew', 'Male', 'Adult', 'No'], ['Crew', 'Male', 'Adult', 'No'], ['Crew', 'Male', 'Adult', 'No'], ['Crew', 'Male', 'Adult', 'No'], ['Crew', 'Male', 'Adult', 'No'], ['Crew', 'Male', 'Adult', 'No'], ['Crew', 'Male', 'Adult', 'No'], ['Crew', 'Male', 'Adult', 'No'], ['Crew', 'Male', 'Adult', 'No'], ['Crew', 'Male', 'Adult', 'No'], ['Crew', 'Male', 'Adult', 'No'], ['Crew', 'Male', 'Adult', 'No'], ['Crew', 'Male', 'Adult', 'No'], ['Crew', 'Male', 'Adult', 'No'], ['Crew', 'Male', 'Adult', 'No'], ['Crew', 'Male', 'Adult', 'No'], ['Crew', 'Male', 'Adult', 'No'], ['Crew', 'Male', 'Adult', 'No'], ['Crew', 'Male', 'Adult', 'No'], ['Crew', 'Male', 'Adult', 'No'], ['Crew', 'Male', 'Adult', 'No'], ['Crew', 'Male', 'Adult', 'No'], ['Crew', 'Male', 'Adult', 'No'], ['Crew', 'Male', 'Adult', 'No'], ['Crew', 'Male', 'Adult', 'No'], ['Crew', 'Male', 'Adult', 'No'], ['Crew', 'Male', 'Adult', 'No'], ['Crew', 'Male', 'Adult', 'No'], ['Crew', 'Male', 'Adult', 'No'], ['Crew', 'Male', 'Adult', 'No'], ['Crew', 'Male', 'Adult', 'No'], ['Crew', 'Male', 'Adult', 'No'], ['Crew', 'Male', 'Adult', 'No'], ['Crew', 'Male', 'Adult', 'No'], ['Crew', 'Male', 'Adult', 'No'], ['Crew', 'Male', 'Adult', 'No'], ['Crew', 'Male', 'Adult', 'No'], ['Crew', 'Male', 'Adult', 'No'], ['Crew', 'Male', 'Adult', 'No'], ['Crew', 'Male', 'Adult', 'No'], ['Crew', 'Male', 'Adult', 'No'], ['Crew', 'Male', 'Adult', 'No'], ['Crew', 'Male', 'Adult', 'No'], ['Crew', 'Male', 'Adult', 'No'], ['Crew', 'Male', 'Adult', 'No'], ['Crew', 'Male', 'Adult', 'No'], ['Crew', 'Male', 'Adult', 'No'], ['Crew', 'Male', 'Adult', 'No'], ['Crew', 'Male', 'Adult', 'No'], ['Crew', 'Male', 'Adult', 'No'], ['Crew', 'Male', 'Adult', 'No'], ['Crew', 'Male', 'Adult', 'No'], ['Crew', 'Male', 'Adult', 'No'], ['Crew', 'Male', 'Adult', 'No'], ['Crew', 'Male', 'Adult', 'No'], ['Crew', 'Male', 'Adult', 'No'], ['Crew', 'Male', 'Adult', 'No'], ['Crew', 'Male', 'Adult', 'No'], ['Crew', 'Male', 'Adult', 'No'], ['Crew', 'Male', 'Adult', 'No'], ['Crew', 'Male', 'Adult', 'No'], ['Crew', 'Male', 'Adult', 'No'], ['Crew', 'Male', 'Adult', 'No'], ['Crew', 'Male', 'Adult', 'No'], ['Crew', 'Male', 'Adult', 'No'], ['Crew', 'Male', 'Adult', 'No'], ['Crew', 'Male', 'Adult', 'No'], ['Crew', 'Male', 'Adult', 'No'], ['Crew', 'Male', 'Adult', 'No'], ['Crew', 'Male', 'Adult', 'No'], ['Crew', 'Male', 'Adult', 'No'], ['Crew', 'Male', 'Adult', 'No'], ['Crew', 'Male', 'Adult', 'No'], ['Crew', 'Male', 'Adult', 'No'], ['Crew', 'Male', 'Adult', 'No'], ['Crew', 'Male', 'Adult', 'No'], ['Crew', 'Male', 'Adult', 'No'], ['Crew', 'Male', 'Adult', 'No'], ['Crew', 'Male', 'Adult', 'No'], ['Crew', 'Male', 'Adult', 'No'], ['Crew', 'Male', 'Adult', 'No'], ['Crew', 'Male', 'Adult', 'No'], ['Crew', 'Male', 'Adult', 'No'], ['Crew', 'Male', 'Adult', 'No'], ['Crew', 'Male', 'Adult', 'No'], ['Crew', 'Male', 'Adult', 'No'], ['Crew', 'Male', 'Adult', 'No'], ['Crew', 'Male', 'Adult', 'No'], ['Crew', 'Male', 'Adult', 'No'], ['Crew', 'Male', 'Adult', 'No'], ['Crew', 'Male', 'Adult', 'No'], ['Crew', 'Male', 'Adult', 'No'], ['Crew', 'Male', 'Adult', 'No'], ['Crew', 'Male', 'Adult', 'No'], ['Crew', 'Male', 'Adult', 'No'], ['Crew', 'Male', 'Adult', 'No'], ['Crew', 'Male', 'Adult', 'No'], ['Crew', 'Male', 'Adult', 'No'], ['Crew', 'Male', 'Adult', 'No'], ['Crew', 'Male', 'Adult', 'No'], ['Crew', 'Male', 'Adult', 'No'], ['Crew', 'Male', 'Adult', 'No'], ['Crew', 'Male', 'Adult', 'No'], ['Crew', 'Male', 'Adult', 'No'], ['Crew', 'Male', 'Adult', 'No'], ['Crew', 'Male', 'Adult', 'No'], ['Crew', 'Male', 'Adult', 'No'], ['Crew', 'Male', 'Adult', 'No'], ['Crew', 'Male', 'Adult', 'No'], ['Crew', 'Male', 'Adult', 'No'], ['Crew', 'Male', 'Adult', 'No'], ['Crew', 'Male', 'Adult', 'No'], ['Crew', 'Male', 'Adult', 'No'], ['Crew', 'Male', 'Adult', 'No'], ['Crew', 'Male', 'Adult', 'No'], ['Crew', 'Male', 'Adult', 'No'], ['Crew', 'Male', 'Adult', 'No'], ['Crew', 'Male', 'Adult', 'No'], ['Crew', 'Male', 'Adult', 'No'], ['Crew', 'Male', 'Adult', 'No'], ['Crew', 'Male', 'Adult', 'No'], ['Crew', 'Male', 'Adult', 'No'], ['Crew', 'Male', 'Adult', 'No'], ['Crew', 'Male', 'Adult', 'No'], ['Crew', 'Male', 'Adult', 'No'], ['Crew', 'Male', 'Adult', 'No'], ['Crew', 'Male', 'Adult', 'No'], ['Crew', 'Male', 'Adult', 'No'], ['Crew', 'Male', 'Adult', 'No'], ['Crew', 'Male', 'Adult', 'No'], ['Crew', 'Male', 'Adult', 'No'], ['Crew', 'Male', 'Adult', 'No'], ['Crew', 'Male', 'Adult', 'No'], ['Crew', 'Male', 'Adult', 'No'], ['Crew', 'Male', 'Adult', 'No'], ['Crew', 'Male', 'Adult', 'No'], ['Crew', 'Male', 'Adult', 'No'], ['Crew', 'Male', 'Adult', 'No'], ['Crew', 'Male', 'Adult', 'No'], ['Crew', 'Male', 'Adult', 'No'], ['Crew', 'Male', 'Adult', 'No'], ['Crew', 'Male', 'Adult', 'No'], ['Crew', 'Male', 'Adult', 'No'], ['Crew', 'Male', 'Adult', 'No'], ['Crew', 'Male', 'Adult', 'No'], ['Crew', 'Male', 'Adult', 'No'], ['Crew', 'Male', 'Adult', 'No'], ['Crew', 'Male', 'Adult', 'No'], ['Crew', 'Male', 'Adult', 'No'], ['Crew', 'Male', 'Adult', 'No'], ['Crew', 'Male', 'Adult', 'No'], ['Crew', 'Male', 'Adult', 'No'], ['Crew', 'Male', 'Adult', 'No'], ['Crew', 'Male', 'Adult', 'No'], ['Crew', 'Male', 'Adult', 'No'], ['Crew', 'Male', 'Adult', 'No'], ['Crew', 'Male', 'Adult', 'No'], ['Crew', 'Male', 'Adult', 'No'], ['Crew', 'Male', 'Adult', 'No'], ['Crew', 'Male', 'Adult', 'No'], ['Crew', 'Male', 'Adult', 'No'], ['Crew', 'Male', 'Adult', 'No'], ['Crew', 'Male', 'Adult', 'No'], ['Crew', 'Male', 'Adult', 'No'], ['Crew', 'Male', 'Adult', 'No'], ['Crew', 'Male', 'Adult', 'No'], ['Crew', 'Male', 'Adult', 'No'], ['Crew', 'Male', 'Adult', 'No'], ['Crew', 'Male', 'Adult', 'No'], ['Crew', 'Male', 'Adult', 'No'], ['Crew', 'Male', 'Adult', 'No'], ['Crew', 'Male', 'Adult', 'No'], ['Crew', 'Male', 'Adult', 'No'], ['Crew', 'Male', 'Adult', 'No'], ['Crew', 'Male', 'Adult', 'No'], ['Crew', 'Male', 'Adult', 'No'], ['Crew', 'Male', 'Adult', 'No'], ['Crew', 'Male', 'Adult', 'No'], ['Crew', 'Male', 'Adult', 'No'], ['Crew', 'Male', 'Adult', 'No'], ['Crew', 'Male', 'Adult', 'No'], ['Crew', 'Male', 'Adult', 'No'], ['Crew', 'Male', 'Adult', 'No'], ['Crew', 'Male', 'Adult', 'No'], ['Crew', 'Male', 'Adult', 'No'], ['Crew', 'Male', 'Adult', 'No'], ['Crew', 'Male', 'Adult', 'No'], ['Crew', 'Male', 'Adult', 'No'], ['Crew', 'Male', 'Adult', 'No'], ['Crew', 'Male', 'Adult', 'No'], ['Crew', 'Male', 'Adult', 'No'], ['Crew', 'Male', 'Adult', 'No'], ['Crew', 'Male', 'Adult', 'No'], ['Crew', 'Male', 'Adult', 'No'], ['Crew', 'Male', 'Adult', 'No'], ['Crew', 'Male', 'Adult', 'No'], ['Crew', 'Male', 'Adult', 'No'], ['Crew', 'Male', 'Adult', 'No'], ['Crew', 'Male', 'Adult', 'No'], ['Crew', 'Male', 'Adult', 'No'], ['Crew', 'Male', 'Adult', 'No'], ['Crew', 'Male', 'Adult', 'No'], ['Crew', 'Male', 'Adult', 'No'], ['Crew', 'Male', 'Adult', 'No'], ['Crew', 'Male', 'Adult', 'No'], ['Crew', 'Male', 'Adult', 'No'], ['Crew', 'Male', 'Adult', 'No'], ['Crew', 'Male', 'Adult', 'No'], ['Crew', 'Male', 'Adult', 'No'], ['Crew', 'Male', 'Adult', 'No'], ['Crew', 'Male', 'Adult', 'No'], ['Crew', 'Male', 'Adult', 'No'], ['Crew', 'Male', 'Adult', 'No'], ['Crew', 'Male', 'Adult', 'No'], ['Crew', 'Male', 'Adult', 'No'], ['Crew', 'Male', 'Adult', 'No'], ['Crew', 'Male', 'Adult', 'No'], ['Crew', 'Male', 'Adult', 'No'], ['Crew', 'Male', 'Adult', 'No'], ['Crew', 'Male', 'Adult', 'No'], ['Crew', 'Male', 'Adult', 'No'], ['Crew', 'Male', 'Adult', 'No'], ['Crew', 'Male', 'Adult', 'No'], ['Crew', 'Male', 'Adult', 'No'], ['Crew', 'Male', 'Adult', 'No'], ['Crew', 'Male', 'Adult', 'No'], ['Crew', 'Male', 'Adult', 'No'], ['Crew', 'Male', 'Adult', 'No'], ['Crew', 'Male', 'Adult', 'No'], ['Crew', 'Male', 'Adult', 'No'], ['Crew', 'Male', 'Adult', 'No'], ['Crew', 'Male', 'Adult', 'No'], ['Crew', 'Male', 'Adult', 'No'], ['Crew', 'Male', 'Adult', 'No'], ['Crew', 'Male', 'Adult', 'No'], ['Crew', 'Male', 'Adult', 'No'], ['Crew', 'Male', 'Adult', 'No'], ['Crew', 'Male', 'Adult', 'No'], ['Crew', 'Male', 'Adult', 'No'], ['Crew', 'Male', 'Adult', 'No'], ['Crew', 'Male', 'Adult', 'No'], ['Crew', 'Male', 'Adult', 'No'], ['Crew', 'Male', 'Adult', 'No'], ['Crew', 'Male', 'Adult', 'No'], ['Crew', 'Male', 'Adult', 'No'], ['Crew', 'Male', 'Adult', 'No'], ['Crew', 'Male', 'Adult', 'No'], ['Crew', 'Male', 'Adult', 'No'], ['Crew', 'Male', 'Adult', 'No'], ['Crew', 'Male', 'Adult', 'No'], ['Crew', 'Male', 'Adult', 'No'], ['Crew', 'Male', 'Adult', 'No'], ['Crew', 'Male', 'Adult', 'No'], ['Crew', 'Male', 'Adult', 'No'], ['Crew', 'Male', 'Adult', 'No'], ['Crew', 'Male', 'Adult', 'No'], ['Crew', 'Male', 'Adult', 'No'], ['Crew', 'Male', 'Adult', 'No'], ['Crew', 'Male', 'Adult', 'No'], ['Crew', 'Male', 'Adult', 'No'], ['Crew', 'Male', 'Adult', 'No'], ['Crew', 'Male', 'Adult', 'No'], ['Crew', 'Male', 'Adult', 'No'], ['Crew', 'Male', 'Adult', 'No'], ['Crew', 'Male', 'Adult', 'No'], ['Crew', 'Male', 'Adult', 'No'], ['Crew', 'Male', 'Adult', 'No'], ['Crew', 'Male', 'Adult', 'No'], ['Crew', 'Male', 'Adult', 'No'], ['Crew', 'Male', 'Adult', 'No'], ['Crew', 'Male', 'Adult', 'No'], ['Crew', 'Male', 'Adult', 'No'], ['Crew', 'Male', 'Adult', 'No'], ['Crew', 'Male', 'Adult', 'No'], ['Crew', 'Male', 'Adult', 'No'], ['Crew', 'Male', 'Adult', 'No'], ['Crew', 'Male', 'Adult', 'No'], ['Crew', 'Male', 'Adult', 'No'], ['Crew', 'Male', 'Adult', 'No'], ['Crew', 'Male', 'Adult', 'No'], ['Crew', 'Male', 'Adult', 'No'], ['Crew', 'Male', 'Adult', 'No'], ['Crew', 'Male', 'Adult', 'No'], ['Crew', 'Male', 'Adult', 'No'], ['Crew', 'Male', 'Adult', 'No'], ['Crew', 'Male', 'Adult', 'No'], ['Crew', 'Male', 'Adult', 'No'], ['Crew', 'Male', 'Adult', 'No'], ['Crew', 'Male', 'Adult', 'No'], ['Crew', 'Male', 'Adult', 'No'], ['Crew', 'Male', 'Adult', 'No'], ['Crew', 'Male', 'Adult', 'No'], ['Crew', 'Male', 'Adult', 'No'], ['Crew', 'Male', 'Adult', 'No'], ['Crew', 'Male', 'Adult', 'No'], ['Crew', 'Male', 'Adult', 'No'], ['Crew', 'Male', 'Adult', 'No'], ['Crew', 'Male', 'Adult', 'No'], ['Crew', 'Male', 'Adult', 'No'], ['Crew', 'Male', 'Adult', 'No'], ['Crew', 'Male', 'Adult', 'No'], ['Crew', 'Male', 'Adult', 'No'], ['Crew', 'Male', 'Adult', 'No'], ['Crew', 'Male', 'Adult', 'No'], ['Crew', 'Male', 'Adult', 'No'], ['Crew', 'Male', 'Adult', 'No'], ['Crew', 'Male', 'Adult', 'No'], ['Crew', 'Male', 'Adult', 'No'], ['Crew', 'Male', 'Adult', 'No'], ['Crew', 'Male', 'Adult', 'No'], ['Crew', 'Male', 'Adult', 'No'], ['Crew', 'Male', 'Adult', 'No'], ['Crew', 'Male', 'Adult', 'No'], ['Crew', 'Male', 'Adult', 'No'], ['Crew', 'Male', 'Adult', 'No'], ['Crew', 'Male', 'Adult', 'No'], ['Crew', 'Male', 'Adult', 'No'], ['Crew', 'Male', 'Adult', 'No'], ['Crew', 'Male', 'Adult', 'No'], ['Crew', 'Male', 'Adult', 'No'], ['Crew', 'Male', 'Adult', 'No'], ['Crew', 'Male', 'Adult', 'No'], ['Crew', 'Male', 'Adult', 'No'], ['Crew', 'Male', 'Adult', 'No'], ['Crew', 'Male', 'Adult', 'No'], ['Crew', 'Male', 'Adult', 'No'], ['Crew', 'Male', 'Adult', 'No'], ['Crew', 'Male', 'Adult', 'No'], ['Crew', 'Male', 'Adult', 'No'], ['Crew', 'Male', 'Adult', 'No'], ['Crew', 'Male', 'Adult', 'No'], ['Crew', 'Male', 'Adult', 'No'], ['Crew', 'Male', 'Adult', 'No'], ['Crew', 'Male', 'Adult', 'No'], ['Crew', 'Male', 'Adult', 'No'], ['Crew', 'Male', 'Adult', 'No'], ['Crew', 'Male', 'Adult', 'No'], ['Crew', 'Male', 'Adult', 'No'], ['Crew', 'Male', 'Adult', 'No'], ['Crew', 'Male', 'Adult', 'No'], ['Crew', 'Male', 'Adult', 'No'], ['Crew', 'Male', 'Adult', 'No'], ['Crew', 'Male', 'Adult', 'No'], ['Crew', 'Male', 'Adult', 'No'], ['Crew', 'Male', 'Adult', 'No'], ['Crew', 'Male', 'Adult', 'No'], ['Crew', 'Male', 'Adult', 'No'], ['Crew', 'Male', 'Adult', 'No'], ['Crew', 'Male', 'Adult', 'No'], ['Crew', 'Male', 'Adult', 'No'], ['Crew', 'Male', 'Adult', 'No'], ['Crew', 'Male', 'Adult', 'No'], ['Crew', 'Male', 'Adult', 'No'], ['Crew', 'Male', 'Adult', 'No'], ['Crew', 'Male', 'Adult', 'No'], ['Crew', 'Male', 'Adult', 'No'], ['Crew', 'Male', 'Adult', 'No'], ['Crew', 'Male', 'Adult', 'No'], ['Crew', 'Male', 'Adult', 'No'], ['Crew', 'Male', 'Adult', 'No'], ['Crew', 'Male', 'Adult', 'No'], ['Crew', 'Male', 'Adult', 'No'], ['Crew', 'Male', 'Adult', 'No'], ['Crew', 'Male', 'Adult', 'No'], ['Crew', 'Male', 'Adult', 'No'], ['Crew', 'Male', 'Adult', 'No'], ['Crew', 'Male', 'Adult', 'No'], ['Crew', 'Male', 'Adult', 'No'], ['Crew', 'Male', 'Adult', 'No'], ['Crew', 'Male', 'Adult', 'No'], ['Crew', 'Male', 'Adult', 'No'], ['Crew', 'Male', 'Adult', 'No'], ['Crew', 'Male', 'Adult', 'No'], ['Crew', 'Male', 'Adult', 'No'], ['Crew', 'Male', 'Adult', 'No'], ['Crew', 'Male', 'Adult', 'No'], ['Crew', 'Male', 'Adult', 'No'], ['Crew', 'Male', 'Adult', 'No'], ['Crew', 'Male', 'Adult', 'No'], ['Crew', 'Male', 'Adult', 'No'], ['Crew', 'Male', 'Adult', 'No'], ['Crew', 'Male', 'Adult', 'No'], ['Crew', 'Male', 'Adult', 'No'], ['Crew', 'Male', 'Adult', 'No'], ['Crew', 'Male', 'Adult', 'No'], ['Crew', 'Male', 'Adult', 'No'], ['Crew', 'Male', 'Adult', 'No'], ['Crew', 'Male', 'Adult', 'No'], ['Crew', 'Male', 'Adult', 'No'], ['Crew', 'Male', 'Adult', 'No'], ['Crew', 'Male', 'Adult', 'No'], ['Crew', 'Male', 'Adult', 'No'], ['Crew', 'Male', 'Adult', 'No'], ['Crew', 'Male', 'Adult', 'No'], ['Crew', 'Male', 'Adult', 'No'], ['Crew', 'Male', 'Adult', 'No'], ['Crew', 'Male', 'Adult', 'No'], ['Crew', 'Male', 'Adult', 'No'], ['Crew', 'Male', 'Adult', 'No'], ['Crew', 'Male', 'Adult', 'No'], ['Crew', 'Male', 'Adult', 'No'], ['Crew', 'Male', 'Adult', 'No'], ['Crew', 'Male', 'Adult', 'No'], ['Crew', 'Male', 'Adult', 'No'], ['Crew', 'Male', 'Adult', 'No'], ['Crew', 'Male', 'Adult', 'No'], ['Crew', 'Male', 'Adult', 'No'], ['Crew', 'Male', 'Adult', 'No'], ['Crew', 'Male', 'Adult', 'No'], ['Crew', 'Male', 'Adult', 'No'], ['Crew', 'Male', 'Adult', 'No'], ['Crew', 'Male', 'Adult', 'No'], ['Crew', 'Male', 'Adult', 'No'], ['Crew', 'Male', 'Adult', 'No'], ['Crew', 'Male', 'Adult', 'No'], ['Crew', 'Male', 'Adult', 'No'], ['Crew', 'Male', 'Adult', 'No'], ['Crew', 'Male', 'Adult', 'No'], ['Crew', 'Male', 'Adult', 'No'], ['Crew', 'Male', 'Adult', 'No'], ['Crew', 'Male', 'Adult', 'No'], ['Crew', 'Male', 'Adult', 'No'], ['Crew', 'Male', 'Adult', 'No'], ['Crew', 'Male', 'Adult', 'No'], ['Crew', 'Male', 'Adult', 'No'], ['Crew', 'Male', 'Adult', 'No'], ['Crew', 'Male', 'Adult', 'No'], ['Crew', 'Male', 'Adult', 'No'], ['Crew', 'Male', 'Adult', 'No'], ['Crew', 'Male', 'Adult', 'No'], ['Crew', 'Male', 'Adult', 'No'], ['Crew', 'Male', 'Adult', 'No'], ['Crew', 'Male', 'Adult', 'No'], ['Crew', 'Male', 'Adult', 'No'], ['Crew', 'Male', 'Adult', 'No'], ['Crew', 'Male', 'Adult', 'No'], ['Crew', 'Male', 'Adult', 'No'], ['Crew', 'Male', 'Adult', 'No'], ['Crew', 'Male', 'Adult', 'No'], ['Crew', 'Male', 'Adult', 'No'], ['Crew', 'Male', 'Adult', 'No'], ['Crew', 'Male', 'Adult', 'No'], ['Crew', 'Male', 'Adult', 'No'], ['Crew', 'Male', 'Adult', 'No'], ['Crew', 'Male', 'Adult', 'No'], ['Crew', 'Male', 'Adult', 'No'], ['Crew', 'Male', 'Adult', 'No'], ['Crew', 'Male', 'Adult', 'No'], ['Crew', 'Male', 'Adult', 'No'], ['Crew', 'Male', 'Adult', 'No'], ['Crew', 'Male', 'Adult', 'No'], ['Crew', 'Male', 'Adult', 'No'], ['Crew', 'Male', 'Adult', 'No'], ['Crew', 'Male', 'Adult', 'No'], ['Crew', 'Male', 'Adult', 'No'], ['Crew', 'Male', 'Adult', 'No'], ['Crew', 'Male', 'Adult', 'No'], ['Crew', 'Male', 'Adult', 'No'], ['Crew', 'Male', 'Adult', 'No'], ['Crew', 'Male', 'Adult', 'No'], ['Crew', 'Male', 'Adult', 'No'], ['Crew', 'Male', 'Adult', 'No'], ['Crew', 'Male', 'Adult', 'No'], ['Crew', 'Male', 'Adult', 'No'], ['Crew', 'Male', 'Adult', 'No'], ['Crew', 'Male', 'Adult', 'No'], ['Crew', 'Male', 'Adult', 'No'], ['Crew', 'Male', 'Adult', 'No'], ['Crew', 'Male', 'Adult', 'No'], ['Crew', 'Male', 'Adult', 'No'], ['Crew', 'Male', 'Adult', 'No'], ['Crew', 'Male', 'Adult', 'No'], ['Crew', 'Male', 'Adult', 'No'], ['Crew', 'Male', 'Adult', 'No'], ['Crew', 'Male', 'Adult', 'No'], ['Crew', 'Male', 'Adult', 'No'], ['Crew', 'Male', 'Adult', 'No'], ['Crew', 'Male', 'Adult', 'No'], ['Crew', 'Male', 'Adult', 'No'], ['Crew', 'Male', 'Adult', 'No'], ['Crew', 'Male', 'Adult', 'No'], ['Crew', 'Male', 'Adult', 'No'], ['Crew', 'Male', 'Adult', 'No'], ['Crew', 'Male', 'Adult', 'No'], ['Crew', 'Male', 'Adult', 'No'], ['Crew', 'Male', 'Adult', 'No'], ['Crew', 'Male', 'Adult', 'No'], ['Crew', 'Male', 'Adult', 'No'], ['Crew', 'Male', 'Adult', 'No'], ['Crew', 'Male', 'Adult', 'No'], ['Crew', 'Male', 'Adult', 'No'], ['Crew', 'Male', 'Adult', 'No'], ['Crew', 'Male', 'Adult', 'No'], ['Crew', 'Male', 'Adult', 'No'], ['Crew', 'Male', 'Adult', 'No'], ['Crew', 'Male', 'Adult', 'No'], ['Crew', 'Male', 'Adult', 'No'], ['Crew', 'Male', 'Adult', 'No'], ['Crew', 'Male', 'Adult', 'No'], ['Crew', 'Male', 'Adult', 'No'], ['Crew', 'Male', 'Adult', 'No'], ['Crew', 'Male', 'Adult', 'No'], ['Crew', 'Male', 'Adult', 'No'], ['Crew', 'Male', 'Adult', 'No'], ['Crew', 'Male', 'Adult', 'No'], ['Crew', 'Male', 'Adult', 'No'], ['Crew', 'Male', 'Adult', 'No'], ['Crew', 'Male', 'Adult', 'No'], ['Crew', 'Male', 'Adult', 'No'], ['Crew', 'Male', 'Adult', 'No'], ['Crew', 'Male', 'Adult', 'No'], ['Crew', 'Male', 'Adult', 'No'], ['Crew', 'Male', 'Adult', 'No'], ['Crew', 'Male', 'Adult', 'No'], ['Crew', 'Male', 'Adult', 'No'], ['Crew', 'Male', 'Adult', 'No'], ['Crew', 'Male', 'Adult', 'No'], ['Crew', 'Male', 'Adult', 'No'], ['Crew', 'Male', 'Adult', 'No'], ['Crew', 'Male', 'Adult', 'No'], ['Crew', 'Male', 'Adult', 'No'], ['Crew', 'Male', 'Adult', 'No'], ['Crew', 'Male', 'Adult', 'No'], ['Crew', 'Male', 'Adult', 'No'], ['Crew', 'Male', 'Adult', 'No'], ['Crew', 'Male', 'Adult', 'No'], ['Crew', 'Male', 'Adult', 'No'], ['Crew', 'Male', 'Adult', 'No'], ['Crew', 'Male', 'Adult', 'No'], ['Crew', 'Male', 'Adult', 'No'], ['Crew', 'Male', 'Adult', 'No'], ['Crew', 'Male', 'Adult', 'No'], ['Crew', 'Male', 'Adult', 'No'], ['Crew', 'Male', 'Adult', 'No'], ['Crew', 'Male', 'Adult', 'No'], ['Crew', 'Male', 'Adult', 'No'], ['Crew', 'Male', 'Adult', 'No'], ['Crew', 'Male', 'Adult', 'No'], ['Crew', 'Male', 'Adult', 'No'], ['Crew', 'Male', 'Adult', 'No'], ['Crew', 'Male', 'Adult', 'No'], ['Crew', 'Male', 'Adult', 'No'], ['Crew', 'Male', 'Adult', 'No'], ['Crew', 'Male', 'Adult', 'No'], ['Crew', 'Male', 'Adult', 'No'], ['Crew', 'Male', 'Adult', 'No'], ['Crew', 'Male', 'Adult', 'No'], ['Crew', 'Male', 'Adult', 'No'], ['Crew', 'Male', 'Adult', 'No'], ['Crew', 'Male', 'Adult', 'No'], ['Crew', 'Male', 'Adult', 'No'], ['Crew', 'Male', 'Adult', 'No'], ['1st', 'Female', 'Adult', 'No'], ['1st', 'Female', 'Adult', 'No'], ['1st', 'Female', 'Adult', 'No'], ['1st', 'Female', 'Adult', 'No'], ['2nd', 'Female', 'Adult', 'No'], ['2nd', 'Female', 'Adult', 'No'], ['2nd', 'Female', 'Adult', 'No'], ['2nd', 'Female', 'Adult', 'No'], ['2nd', 'Female', 'Adult', 'No'], ['2nd', 'Female', 'Adult', 'No'], ['2nd', 'Female', 'Adult', 'No'], ['2nd', 'Female', 'Adult', 'No'], ['2nd', 'Female', 'Adult', 'No'], ['2nd', 'Female', 'Adult', 'No'], ['2nd', 'Female', 'Adult', 'No'], ['2nd', 'Female', 'Adult', 'No'], ['2nd', 'Female', 'Adult', 'No'], ['3rd', 'Female', 'Adult', 'No'], ['3rd', 'Female', 'Adult', 'No'], ['3rd', 'Female', 'Adult', 'No'], ['3rd', 'Female', 'Adult', 'No'], ['3rd', 'Female', 'Adult', 'No'], ['3rd', 'Female', 'Adult', 'No'], ['3rd', 'Female', 'Adult', 'No'], ['3rd', 'Female', 'Adult', 'No'], ['3rd', 'Female', 'Adult', 'No'], ['3rd', 'Female', 'Adult', 'No'], ['3rd', 'Female', 'Adult', 'No'], ['3rd', 'Female', 'Adult', 'No'], ['3rd', 'Female', 'Adult', 'No'], ['3rd', 'Female', 'Adult', 'No'], ['3rd', 'Female', 'Adult', 'No'], ['3rd', 'Female', 'Adult', 'No'], ['3rd', 'Female', 'Adult', 'No'], ['3rd', 'Female', 'Adult', 'No'], ['3rd', 'Female', 'Adult', 'No'], ['3rd', 'Female', 'Adult', 'No'], ['3rd', 'Female', 'Adult', 'No'], ['3rd', 'Female', 'Adult', 'No'], ['3rd', 'Female', 'Adult', 'No'], ['3rd', 'Female', 'Adult', 'No'], ['3rd', 'Female', 'Adult', 'No'], ['3rd', 'Female', 'Adult', 'No'], ['3rd', 'Female', 'Adult', 'No'], ['3rd', 'Female', 'Adult', 'No'], ['3rd', 'Female', 'Adult', 'No'], ['3rd', 'Female', 'Adult', 'No'], ['3rd', 'Female', 'Adult', 'No'], ['3rd', 'Female', 'Adult', 'No'], ['3rd', 'Female', 'Adult', 'No'], ['3rd', 'Female', 'Adult', 'No'], ['3rd', 'Female', 'Adult', 'No'], ['3rd', 'Female', 'Adult', 'No'], ['3rd', 'Female', 'Adult', 'No'], ['3rd', 'Female', 'Adult', 'No'], ['3rd', 'Female', 'Adult', 'No'], ['3rd', 'Female', 'Adult', 'No'], ['3rd', 'Female', 'Adult', 'No'], ['3rd', 'Female', 'Adult', 'No'], ['3rd', 'Female', 'Adult', 'No'], ['3rd', 'Female', 'Adult', 'No'], ['3rd', 'Female', 'Adult', 'No'], ['3rd', 'Female', 'Adult', 'No'], ['3rd', 'Female', 'Adult', 'No'], ['3rd', 'Female', 'Adult', 'No'], ['3rd', 'Female', 'Adult', 'No'], ['3rd', 'Female', 'Adult', 'No'], ['3rd', 'Female', 'Adult', 'No'], ['3rd', 'Female', 'Adult', 'No'], ['3rd', 'Female', 'Adult', 'No'], ['3rd', 'Female', 'Adult', 'No'], ['3rd', 'Female', 'Adult', 'No'], ['3rd', 'Female', 'Adult', 'No'], ['3rd', 'Female', 'Adult', 'No'], ['3rd', 'Female', 'Adult', 'No'], ['3rd', 'Female', 'Adult', 'No'], ['3rd', 'Female', 'Adult', 'No'], ['3rd', 'Female', 'Adult', 'No'], ['3rd', 'Female', 'Adult', 'No'], ['3rd', 'Female', 'Adult', 'No'], ['3rd', 'Female', 'Adult', 'No'], ['3rd', 'Female', 'Adult', 'No'], ['3rd', 'Female', 'Adult', 'No'], ['3rd', 'Female', 'Adult', 'No'], ['3rd', 'Female', 'Adult', 'No'], ['3rd', 'Female', 'Adult', 'No'], ['3rd', 'Female', 'Adult', 'No'], ['3rd', 'Female', 'Adult', 'No'], ['3rd', 'Female', 'Adult', 'No'], ['3rd', 'Female', 'Adult', 'No'], ['3rd', 'Female', 'Adult', 'No'], ['3rd', 'Female', 'Adult', 'No'], ['3rd', 'Female', 'Adult', 'No'], ['3rd', 'Female', 'Adult', 'No'], ['3rd', 'Female', 'Adult', 'No'], ['3rd', 'Female', 'Adult', 'No'], ['3rd', 'Female', 'Adult', 'No'], ['3rd', 'Female', 'Adult', 'No'], ['3rd', 'Female', 'Adult', 'No'], ['3rd', 'Female', 'Adult', 'No'], ['3rd', 'Female', 'Adult', 'No'], ['3rd', 'Female', 'Adult', 'No'], ['3rd', 'Female', 'Adult', 'No'], ['3rd', 'Female', 'Adult', 'No'], ['3rd', 'Female', 'Adult', 'No'], ['3rd', 'Female', 'Adult', 'No'], ['Crew', 'Female', 'Adult', 'No'], ['Crew', 'Female', 'Adult', 'No'], ['Crew', 'Female', 'Adult', 'No'], ['1st', 'Male', 'Child', 'Yes'], ['1st', 'Male', 'Child', 'Yes'], ['1st', 'Male', 'Child', 'Yes'], ['1st', 'Male', 'Child', 'Yes'], ['1st', 'Male', 'Child', 'Yes'], ['2nd', 'Male', 'Child', 'Yes'], ['2nd', 'Male', 'Child', 'Yes'], ['2nd', 'Male', 'Child', 'Yes'], ['2nd', 'Male', 'Child', 'Yes'], ['2nd', 'Male', 'Child', 'Yes'], ['2nd', 'Male', 'Child', 'Yes'], ['2nd', 'Male', 'Child', 'Yes'], ['2nd', 'Male', 'Child', 'Yes'], ['2nd', 'Male', 'Child', 'Yes'], ['2nd', 'Male', 'Child', 'Yes'], ['2nd', 'Male', 'Child', 'Yes'], ['3rd', 'Male', 'Child', 'Yes'], ['3rd', 'Male', 'Child', 'Yes'], ['3rd', 'Male', 'Child', 'Yes'], ['3rd', 'Male', 'Child', 'Yes'], ['3rd', 'Male', 'Child', 'Yes'], ['3rd', 'Male', 'Child', 'Yes'], ['3rd', 'Male', 'Child', 'Yes'], ['3rd', 'Male', 'Child', 'Yes'], ['3rd', 'Male', 'Child', 'Yes'], ['3rd', 'Male', 'Child', 'Yes'], ['3rd', 'Male', 'Child', 'Yes'], ['3rd', 'Male', 'Child', 'Yes'], ['3rd', 'Male', 'Child', 'Yes'], ['1st', 'Female', 'Child', 'Yes'], ['2nd', 'Female', 'Child', 'Yes'], ['2nd', 'Female', 'Child', 'Yes'], ['2nd', 'Female', 'Child', 'Yes'], ['2nd', 'Female', 'Child', 'Yes'], ['2nd', 'Female', 'Child', 'Yes'], ['2nd', 'Female', 'Child', 'Yes'], ['2nd', 'Female', 'Child', 'Yes'], ['2nd', 'Female', 'Child', 'Yes'], ['2nd', 'Female', 'Child', 'Yes'], ['2nd', 'Female', 'Child', 'Yes'], ['2nd', 'Female', 'Child', 'Yes'], ['2nd', 'Female', 'Child', 'Yes'], ['2nd', 'Female', 'Child', 'Yes'], ['3rd', 'Female', 'Child', 'Yes'], ['3rd', 'Female', 'Child', 'Yes'], ['3rd', 'Female', 'Child', 'Yes'], ['3rd', 'Female', 'Child', 'Yes'], ['3rd', 'Female', 'Child', 'Yes'], ['3rd', 'Female', 'Child', 'Yes'], ['3rd', 'Female', 'Child', 'Yes'], ['3rd', 'Female', 'Child', 'Yes'], ['3rd', 'Female', 'Child', 'Yes'], ['3rd', 'Female', 'Child', 'Yes'], ['3rd', 'Female', 'Child', 'Yes'], ['3rd', 'Female', 'Child', 'Yes'], ['3rd', 'Female', 'Child', 'Yes'], ['3rd', 'Female', 'Child', 'Yes'], ['1st', 'Male', 'Adult', 'Yes'], ['1st', 'Male', 'Adult', 'Yes'], ['1st', 'Male', 'Adult', 'Yes'], ['1st', 'Male', 'Adult', 'Yes'], ['1st', 'Male', 'Adult', 'Yes'], ['1st', 'Male', 'Adult', 'Yes'], ['1st', 'Male', 'Adult', 'Yes'], ['1st', 'Male', 'Adult', 'Yes'], ['1st', 'Male', 'Adult', 'Yes'], ['1st', 'Male', 'Adult', 'Yes'], ['1st', 'Male', 'Adult', 'Yes'], ['1st', 'Male', 'Adult', 'Yes'], ['1st', 'Male', 'Adult', 'Yes'], ['1st', 'Male', 'Adult', 'Yes'], ['1st', 'Male', 'Adult', 'Yes'], ['1st', 'Male', 'Adult', 'Yes'], ['1st', 'Male', 'Adult', 'Yes'], ['1st', 'Male', 'Adult', 'Yes'], ['1st', 'Male', 'Adult', 'Yes'], ['1st', 'Male', 'Adult', 'Yes'], ['1st', 'Male', 'Adult', 'Yes'], ['1st', 'Male', 'Adult', 'Yes'], ['1st', 'Male', 'Adult', 'Yes'], ['1st', 'Male', 'Adult', 'Yes'], ['1st', 'Male', 'Adult', 'Yes'], ['1st', 'Male', 'Adult', 'Yes'], ['1st', 'Male', 'Adult', 'Yes'], ['1st', 'Male', 'Adult', 'Yes'], ['1st', 'Male', 'Adult', 'Yes'], ['1st', 'Male', 'Adult', 'Yes'], ['1st', 'Male', 'Adult', 'Yes'], ['1st', 'Male', 'Adult', 'Yes'], ['1st', 'Male', 'Adult', 'Yes'], ['1st', 'Male', 'Adult', 'Yes'], ['1st', 'Male', 'Adult', 'Yes'], ['1st', 'Male', 'Adult', 'Yes'], ['1st', 'Male', 'Adult', 'Yes'], ['1st', 'Male', 'Adult', 'Yes'], ['1st', 'Male', 'Adult', 'Yes'], ['1st', 'Male', 'Adult', 'Yes'], ['1st', 'Male', 'Adult', 'Yes'], ['1st', 'Male', 'Adult', 'Yes'], ['1st', 'Male', 'Adult', 'Yes'], ['1st', 'Male', 'Adult', 'Yes'], ['1st', 'Male', 'Adult', 'Yes'], ['1st', 'Male', 'Adult', 'Yes'], ['1st', 'Male', 'Adult', 'Yes'], ['1st', 'Male', 'Adult', 'Yes'], ['1st', 'Male', 'Adult', 'Yes'], ['1st', 'Male', 'Adult', 'Yes'], ['1st', 'Male', 'Adult', 'Yes'], ['1st', 'Male', 'Adult', 'Yes'], ['1st', 'Male', 'Adult', 'Yes'], ['1st', 'Male', 'Adult', 'Yes'], ['1st', 'Male', 'Adult', 'Yes'], ['1st', 'Male', 'Adult', 'Yes'], ['1st', 'Male', 'Adult', 'Yes'], ['2nd', 'Male', 'Adult', 'Yes'], ['2nd', 'Male', 'Adult', 'Yes'], ['2nd', 'Male', 'Adult', 'Yes'], ['2nd', 'Male', 'Adult', 'Yes'], ['2nd', 'Male', 'Adult', 'Yes'], ['2nd', 'Male', 'Adult', 'Yes'], ['2nd', 'Male', 'Adult', 'Yes'], ['2nd', 'Male', 'Adult', 'Yes'], ['2nd', 'Male', 'Adult', 'Yes'], ['2nd', 'Male', 'Adult', 'Yes'], ['2nd', 'Male', 'Adult', 'Yes'], ['2nd', 'Male', 'Adult', 'Yes'], ['2nd', 'Male', 'Adult', 'Yes'], ['2nd', 'Male', 'Adult', 'Yes'], ['3rd', 'Male', 'Adult', 'Yes'], ['3rd', 'Male', 'Adult', 'Yes'], ['3rd', 'Male', 'Adult', 'Yes'], ['3rd', 'Male', 'Adult', 'Yes'], ['3rd', 'Male', 'Adult', 'Yes'], ['3rd', 'Male', 'Adult', 'Yes'], ['3rd', 'Male', 'Adult', 'Yes'], ['3rd', 'Male', 'Adult', 'Yes'], ['3rd', 'Male', 'Adult', 'Yes'], ['3rd', 'Male', 'Adult', 'Yes'], ['3rd', 'Male', 'Adult', 'Yes'], ['3rd', 'Male', 'Adult', 'Yes'], ['3rd', 'Male', 'Adult', 'Yes'], ['3rd', 'Male', 'Adult', 'Yes'], ['3rd', 'Male', 'Adult', 'Yes'], ['3rd', 'Male', 'Adult', 'Yes'], ['3rd', 'Male', 'Adult', 'Yes'], ['3rd', 'Male', 'Adult', 'Yes'], ['3rd', 'Male', 'Adult', 'Yes'], ['3rd', 'Male', 'Adult', 'Yes'], ['3rd', 'Male', 'Adult', 'Yes'], ['3rd', 'Male', 'Adult', 'Yes'], ['3rd', 'Male', 'Adult', 'Yes'], ['3rd', 'Male', 'Adult', 'Yes'], ['3rd', 'Male', 'Adult', 'Yes'], ['3rd', 'Male', 'Adult', 'Yes'], ['3rd', 'Male', 'Adult', 'Yes'], ['3rd', 'Male', 'Adult', 'Yes'], ['3rd', 'Male', 'Adult', 'Yes'], ['3rd', 'Male', 'Adult', 'Yes'], ['3rd', 'Male', 'Adult', 'Yes'], ['3rd', 'Male', 'Adult', 'Yes'], ['3rd', 'Male', 'Adult', 'Yes'], ['3rd', 'Male', 'Adult', 'Yes'], ['3rd', 'Male', 'Adult', 'Yes'], ['3rd', 'Male', 'Adult', 'Yes'], ['3rd', 'Male', 'Adult', 'Yes'], ['3rd', 'Male', 'Adult', 'Yes'], ['3rd', 'Male', 'Adult', 'Yes'], ['3rd', 'Male', 'Adult', 'Yes'], ['3rd', 'Male', 'Adult', 'Yes'], ['3rd', 'Male', 'Adult', 'Yes'], ['3rd', 'Male', 'Adult', 'Yes'], ['3rd', 'Male', 'Adult', 'Yes'], ['3rd', 'Male', 'Adult', 'Yes'], ['3rd', 'Male', 'Adult', 'Yes'], ['3rd', 'Male', 'Adult', 'Yes'], ['3rd', 'Male', 'Adult', 'Yes'], ['3rd', 'Male', 'Adult', 'Yes'], ['3rd', 'Male', 'Adult', 'Yes'], ['3rd', 'Male', 'Adult', 'Yes'], ['3rd', 'Male', 'Adult', 'Yes'], ['3rd', 'Male', 'Adult', 'Yes'], ['3rd', 'Male', 'Adult', 'Yes'], ['3rd', 'Male', 'Adult', 'Yes'], ['3rd', 'Male', 'Adult', 'Yes'], ['3rd', 'Male', 'Adult', 'Yes'], ['3rd', 'Male', 'Adult', 'Yes'], ['3rd', 'Male', 'Adult', 'Yes'], ['3rd', 'Male', 'Adult', 'Yes'], ['3rd', 'Male', 'Adult', 'Yes'], ['3rd', 'Male', 'Adult', 'Yes'], ['3rd', 'Male', 'Adult', 'Yes'], ['3rd', 'Male', 'Adult', 'Yes'], ['3rd', 'Male', 'Adult', 'Yes'], ['3rd', 'Male', 'Adult', 'Yes'], ['3rd', 'Male', 'Adult', 'Yes'], ['3rd', 'Male', 'Adult', 'Yes'], ['3rd', 'Male', 'Adult', 'Yes'], ['3rd', 'Male', 'Adult', 'Yes'], ['3rd', 'Male', 'Adult', 'Yes'], ['3rd', 'Male', 'Adult', 'Yes'], ['3rd', 'Male', 'Adult', 'Yes'], ['3rd', 'Male', 'Adult', 'Yes'], ['3rd', 'Male', 'Adult', 'Yes'], ['Crew', 'Male', 'Adult', 'Yes'], ['Crew', 'Male', 'Adult', 'Yes'], ['Crew', 'Male', 'Adult', 'Yes'], ['Crew', 'Male', 'Adult', 'Yes'], ['Crew', 'Male', 'Adult', 'Yes'], ['Crew', 'Male', 'Adult', 'Yes'], ['Crew', 'Male', 'Adult', 'Yes'], ['Crew', 'Male', 'Adult', 'Yes'], ['Crew', 'Male', 'Adult', 'Yes'], ['Crew', 'Male', 'Adult', 'Yes'], ['Crew', 'Male', 'Adult', 'Yes'], ['Crew', 'Male', 'Adult', 'Yes'], ['Crew', 'Male', 'Adult', 'Yes'], ['Crew', 'Male', 'Adult', 'Yes'], ['Crew', 'Male', 'Adult', 'Yes'], ['Crew', 'Male', 'Adult', 'Yes'], ['Crew', 'Male', 'Adult', 'Yes'], ['Crew', 'Male', 'Adult', 'Yes'], ['Crew', 'Male', 'Adult', 'Yes'], ['Crew', 'Male', 'Adult', 'Yes'], ['Crew', 'Male', 'Adult', 'Yes'], ['Crew', 'Male', 'Adult', 'Yes'], ['Crew', 'Male', 'Adult', 'Yes'], ['Crew', 'Male', 'Adult', 'Yes'], ['Crew', 'Male', 'Adult', 'Yes'], ['Crew', 'Male', 'Adult', 'Yes'], ['Crew', 'Male', 'Adult', 'Yes'], ['Crew', 'Male', 'Adult', 'Yes'], ['Crew', 'Male', 'Adult', 'Yes'], ['Crew', 'Male', 'Adult', 'Yes'], ['Crew', 'Male', 'Adult', 'Yes'], ['Crew', 'Male', 'Adult', 'Yes'], ['Crew', 'Male', 'Adult', 'Yes'], ['Crew', 'Male', 'Adult', 'Yes'], ['Crew', 'Male', 'Adult', 'Yes'], ['Crew', 'Male', 'Adult', 'Yes'], ['Crew', 'Male', 'Adult', 'Yes'], ['Crew', 'Male', 'Adult', 'Yes'], ['Crew', 'Male', 'Adult', 'Yes'], ['Crew', 'Male', 'Adult', 'Yes'], ['Crew', 'Male', 'Adult', 'Yes'], ['Crew', 'Male', 'Adult', 'Yes'], ['Crew', 'Male', 'Adult', 'Yes'], ['Crew', 'Male', 'Adult', 'Yes'], ['Crew', 'Male', 'Adult', 'Yes'], ['Crew', 'Male', 'Adult', 'Yes'], ['Crew', 'Male', 'Adult', 'Yes'], ['Crew', 'Male', 'Adult', 'Yes'], ['Crew', 'Male', 'Adult', 'Yes'], ['Crew', 'Male', 'Adult', 'Yes'], ['Crew', 'Male', 'Adult', 'Yes'], ['Crew', 'Male', 'Adult', 'Yes'], ['Crew', 'Male', 'Adult', 'Yes'], ['Crew', 'Male', 'Adult', 'Yes'], ['Crew', 'Male', 'Adult', 'Yes'], ['Crew', 'Male', 'Adult', 'Yes'], ['Crew', 'Male', 'Adult', 'Yes'], ['Crew', 'Male', 'Adult', 'Yes'], ['Crew', 'Male', 'Adult', 'Yes'], ['Crew', 'Male', 'Adult', 'Yes'], ['Crew', 'Male', 'Adult', 'Yes'], ['Crew', 'Male', 'Adult', 'Yes'], ['Crew', 'Male', 'Adult', 'Yes'], ['Crew', 'Male', 'Adult', 'Yes'], ['Crew', 'Male', 'Adult', 'Yes'], ['Crew', 'Male', 'Adult', 'Yes'], ['Crew', 'Male', 'Adult', 'Yes'], ['Crew', 'Male', 'Adult', 'Yes'], ['Crew', 'Male', 'Adult', 'Yes'], ['Crew', 'Male', 'Adult', 'Yes'], ['Crew', 'Male', 'Adult', 'Yes'], ['Crew', 'Male', 'Adult', 'Yes'], ['Crew', 'Male', 'Adult', 'Yes'], ['Crew', 'Male', 'Adult', 'Yes'], ['Crew', 'Male', 'Adult', 'Yes'], ['Crew', 'Male', 'Adult', 'Yes'], ['Crew', 'Male', 'Adult', 'Yes'], ['Crew', 'Male', 'Adult', 'Yes'], ['Crew', 'Male', 'Adult', 'Yes'], ['Crew', 'Male', 'Adult', 'Yes'], ['Crew', 'Male', 'Adult', 'Yes'], ['Crew', 'Male', 'Adult', 'Yes'], ['Crew', 'Male', 'Adult', 'Yes'], ['Crew', 'Male', 'Adult', 'Yes'], ['Crew', 'Male', 'Adult', 'Yes'], ['Crew', 'Male', 'Adult', 'Yes'], ['Crew', 'Male', 'Adult', 'Yes'], ['Crew', 'Male', 'Adult', 'Yes'], ['Crew', 'Male', 'Adult', 'Yes'], ['Crew', 'Male', 'Adult', 'Yes'], ['Crew', 'Male', 'Adult', 'Yes'], ['Crew', 'Male', 'Adult', 'Yes'], ['Crew', 'Male', 'Adult', 'Yes'], ['Crew', 'Male', 'Adult', 'Yes'], ['Crew', 'Male', 'Adult', 'Yes'], ['Crew', 'Male', 'Adult', 'Yes'], ['Crew', 'Male', 'Adult', 'Yes'], ['Crew', 'Male', 'Adult', 'Yes'], ['Crew', 'Male', 'Adult', 'Yes'], ['Crew', 'Male', 'Adult', 'Yes'], ['Crew', 'Male', 'Adult', 'Yes'], ['Crew', 'Male', 'Adult', 'Yes'], ['Crew', 'Male', 'Adult', 'Yes'], ['Crew', 'Male', 'Adult', 'Yes'], ['Crew', 'Male', 'Adult', 'Yes'], ['Crew', 'Male', 'Adult', 'Yes'], ['Crew', 'Male', 'Adult', 'Yes'], ['Crew', 'Male', 'Adult', 'Yes'], ['Crew', 'Male', 'Adult', 'Yes'], ['Crew', 'Male', 'Adult', 'Yes'], ['Crew', 'Male', 'Adult', 'Yes'], ['Crew', 'Male', 'Adult', 'Yes'], ['Crew', 'Male', 'Adult', 'Yes'], ['Crew', 'Male', 'Adult', 'Yes'], ['Crew', 'Male', 'Adult', 'Yes'], ['Crew', 'Male', 'Adult', 'Yes'], ['Crew', 'Male', 'Adult', 'Yes'], ['Crew', 'Male', 'Adult', 'Yes'], ['Crew', 'Male', 'Adult', 'Yes'], ['Crew', 'Male', 'Adult', 'Yes'], ['Crew', 'Male', 'Adult', 'Yes'], ['Crew', 'Male', 'Adult', 'Yes'], ['Crew', 'Male', 'Adult', 'Yes'], ['Crew', 'Male', 'Adult', 'Yes'], ['Crew', 'Male', 'Adult', 'Yes'], ['Crew', 'Male', 'Adult', 'Yes'], ['Crew', 'Male', 'Adult', 'Yes'], ['Crew', 'Male', 'Adult', 'Yes'], ['Crew', 'Male', 'Adult', 'Yes'], ['Crew', 'Male', 'Adult', 'Yes'], ['Crew', 'Male', 'Adult', 'Yes'], ['Crew', 'Male', 'Adult', 'Yes'], ['Crew', 'Male', 'Adult', 'Yes'], ['Crew', 'Male', 'Adult', 'Yes'], ['Crew', 'Male', 'Adult', 'Yes'], ['Crew', 'Male', 'Adult', 'Yes'], ['Crew', 'Male', 'Adult', 'Yes'], ['Crew', 'Male', 'Adult', 'Yes'], ['Crew', 'Male', 'Adult', 'Yes'], ['Crew', 'Male', 'Adult', 'Yes'], ['Crew', 'Male', 'Adult', 'Yes'], ['Crew', 'Male', 'Adult', 'Yes'], ['Crew', 'Male', 'Adult', 'Yes'], ['Crew', 'Male', 'Adult', 'Yes'], ['Crew', 'Male', 'Adult', 'Yes'], ['Crew', 'Male', 'Adult', 'Yes'], ['Crew', 'Male', 'Adult', 'Yes'], ['Crew', 'Male', 'Adult', 'Yes'], ['Crew', 'Male', 'Adult', 'Yes'], ['Crew', 'Male', 'Adult', 'Yes'], ['Crew', 'Male', 'Adult', 'Yes'], ['Crew', 'Male', 'Adult', 'Yes'], ['Crew', 'Male', 'Adult', 'Yes'], ['Crew', 'Male', 'Adult', 'Yes'], ['Crew', 'Male', 'Adult', 'Yes'], ['Crew', 'Male', 'Adult', 'Yes'], ['Crew', 'Male', 'Adult', 'Yes'], ['Crew', 'Male', 'Adult', 'Yes'], ['Crew', 'Male', 'Adult', 'Yes'], ['Crew', 'Male', 'Adult', 'Yes'], ['Crew', 'Male', 'Adult', 'Yes'], ['Crew', 'Male', 'Adult', 'Yes'], ['Crew', 'Male', 'Adult', 'Yes'], ['Crew', 'Male', 'Adult', 'Yes'], ['Crew', 'Male', 'Adult', 'Yes'], ['Crew', 'Male', 'Adult', 'Yes'], ['Crew', 'Male', 'Adult', 'Yes'], ['Crew', 'Male', 'Adult', 'Yes'], ['Crew', 'Male', 'Adult', 'Yes'], ['Crew', 'Male', 'Adult', 'Yes'], ['Crew', 'Male', 'Adult', 'Yes'], ['Crew', 'Male', 'Adult', 'Yes'], ['Crew', 'Male', 'Adult', 'Yes'], ['Crew', 'Male', 'Adult', 'Yes'], ['Crew', 'Male', 'Adult', 'Yes'], ['Crew', 'Male', 'Adult', 'Yes'], ['Crew', 'Male', 'Adult', 'Yes'], ['Crew', 'Male', 'Adult', 'Yes'], ['Crew', 'Male', 'Adult', 'Yes'], ['Crew', 'Male', 'Adult', 'Yes'], ['Crew', 'Male', 'Adult', 'Yes'], ['Crew', 'Male', 'Adult', 'Yes'], ['Crew', 'Male', 'Adult', 'Yes'], ['Crew', 'Male', 'Adult', 'Yes'], ['Crew', 'Male', 'Adult', 'Yes'], ['Crew', 'Male', 'Adult', 'Yes'], ['Crew', 'Male', 'Adult', 'Yes'], ['Crew', 'Male', 'Adult', 'Yes'], ['Crew', 'Male', 'Adult', 'Yes'], ['Crew', 'Male', 'Adult', 'Yes'], ['Crew', 'Male', 'Adult', 'Yes'], ['Crew', 'Male', 'Adult', 'Yes'], ['1st', 'Female', 'Adult', 'Yes'], ['1st', 'Female', 'Adult', 'Yes'], ['1st', 'Female', 'Adult', 'Yes'], ['1st', 'Female', 'Adult', 'Yes'], ['1st', 'Female', 'Adult', 'Yes'], ['1st', 'Female', 'Adult', 'Yes'], ['1st', 'Female', 'Adult', 'Yes'], ['1st', 'Female', 'Adult', 'Yes'], ['1st', 'Female', 'Adult', 'Yes'], ['1st', 'Female', 'Adult', 'Yes'], ['1st', 'Female', 'Adult', 'Yes'], ['1st', 'Female', 'Adult', 'Yes'], ['1st', 'Female', 'Adult', 'Yes'], ['1st', 'Female', 'Adult', 'Yes'], ['1st', 'Female', 'Adult', 'Yes'], ['1st', 'Female', 'Adult', 'Yes'], ['1st', 'Female', 'Adult', 'Yes'], ['1st', 'Female', 'Adult', 'Yes'], ['1st', 'Female', 'Adult', 'Yes'], ['1st', 'Female', 'Adult', 'Yes'], ['1st', 'Female', 'Adult', 'Yes'], ['1st', 'Female', 'Adult', 'Yes'], ['1st', 'Female', 'Adult', 'Yes'], ['1st', 'Female', 'Adult', 'Yes'], ['1st', 'Female', 'Adult', 'Yes'], ['1st', 'Female', 'Adult', 'Yes'], ['1st', 'Female', 'Adult', 'Yes'], ['1st', 'Female', 'Adult', 'Yes'], ['1st', 'Female', 'Adult', 'Yes'], ['1st', 'Female', 'Adult', 'Yes'], ['1st', 'Female', 'Adult', 'Yes'], ['1st', 'Female', 'Adult', 'Yes'], ['1st', 'Female', 'Adult', 'Yes'], ['1st', 'Female', 'Adult', 'Yes'], ['1st', 'Female', 'Adult', 'Yes'], ['1st', 'Female', 'Adult', 'Yes'], ['1st', 'Female', 'Adult', 'Yes'], ['1st', 'Female', 'Adult', 'Yes'], ['1st', 'Female', 'Adult', 'Yes'], ['1st', 'Female', 'Adult', 'Yes'], ['1st', 'Female', 'Adult', 'Yes'], ['1st', 'Female', 'Adult', 'Yes'], ['1st', 'Female', 'Adult', 'Yes'], ['1st', 'Female', 'Adult', 'Yes'], ['1st', 'Female', 'Adult', 'Yes'], ['1st', 'Female', 'Adult', 'Yes'], ['1st', 'Female', 'Adult', 'Yes'], ['1st', 'Female', 'Adult', 'Yes'], ['1st', 'Female', 'Adult', 'Yes'], ['1st', 'Female', 'Adult', 'Yes'], ['1st', 'Female', 'Adult', 'Yes'], ['1st', 'Female', 'Adult', 'Yes'], ['1st', 'Female', 'Adult', 'Yes'], ['1st', 'Female', 'Adult', 'Yes'], ['1st', 'Female', 'Adult', 'Yes'], ['1st', 'Female', 'Adult', 'Yes'], ['1st', 'Female', 'Adult', 'Yes'], ['1st', 'Female', 'Adult', 'Yes'], ['1st', 'Female', 'Adult', 'Yes'], ['1st', 'Female', 'Adult', 'Yes'], ['1st', 'Female', 'Adult', 'Yes'], ['1st', 'Female', 'Adult', 'Yes'], ['1st', 'Female', 'Adult', 'Yes'], ['1st', 'Female', 'Adult', 'Yes'], ['1st', 'Female', 'Adult', 'Yes'], ['1st', 'Female', 'Adult', 'Yes'], ['1st', 'Female', 'Adult', 'Yes'], ['1st', 'Female', 'Adult', 'Yes'], ['1st', 'Female', 'Adult', 'Yes'], ['1st', 'Female', 'Adult', 'Yes'], ['1st', 'Female', 'Adult', 'Yes'], ['1st', 'Female', 'Adult', 'Yes'], ['1st', 'Female', 'Adult', 'Yes'], ['1st', 'Female', 'Adult', 'Yes'], ['1st', 'Female', 'Adult', 'Yes'], ['1st', 'Female', 'Adult', 'Yes'], ['1st', 'Female', 'Adult', 'Yes'], ['1st', 'Female', 'Adult', 'Yes'], ['1st', 'Female', 'Adult', 'Yes'], ['1st', 'Female', 'Adult', 'Yes'], ['1st', 'Female', 'Adult', 'Yes'], ['1st', 'Female', 'Adult', 'Yes'], ['1st', 'Female', 'Adult', 'Yes'], ['1st', 'Female', 'Adult', 'Yes'], ['1st', 'Female', 'Adult', 'Yes'], ['1st', 'Female', 'Adult', 'Yes'], ['1st', 'Female', 'Adult', 'Yes'], ['1st', 'Female', 'Adult', 'Yes'], ['1st', 'Female', 'Adult', 'Yes'], ['1st', 'Female', 'Adult', 'Yes'], ['1st', 'Female', 'Adult', 'Yes'], ['1st', 'Female', 'Adult', 'Yes'], ['1st', 'Female', 'Adult', 'Yes'], ['1st', 'Female', 'Adult', 'Yes'], ['1st', 'Female', 'Adult', 'Yes'], ['1st', 'Female', 'Adult', 'Yes'], ['1st', 'Female', 'Adult', 'Yes'], ['1st', 'Female', 'Adult', 'Yes'], ['1st', 'Female', 'Adult', 'Yes'], ['1st', 'Female', 'Adult', 'Yes'], ['1st', 'Female', 'Adult', 'Yes'], ['1st', 'Female', 'Adult', 'Yes'], ['1st', 'Female', 'Adult', 'Yes'], ['1st', 'Female', 'Adult', 'Yes'], ['1st', 'Female', 'Adult', 'Yes'], ['1st', 'Female', 'Adult', 'Yes'], ['1st', 'Female', 'Adult', 'Yes'], ['1st', 'Female', 'Adult', 'Yes'], ['1st', 'Female', 'Adult', 'Yes'], ['1st', 'Female', 'Adult', 'Yes'], ['1st', 'Female', 'Adult', 'Yes'], ['1st', 'Female', 'Adult', 'Yes'], ['1st', 'Female', 'Adult', 'Yes'], ['1st', 'Female', 'Adult', 'Yes'], ['1st', 'Female', 'Adult', 'Yes'], ['1st', 'Female', 'Adult', 'Yes'], ['1st', 'Female', 'Adult', 'Yes'], ['1st', 'Female', 'Adult', 'Yes'], ['1st', 'Female', 'Adult', 'Yes'], ['1st', 'Female', 'Adult', 'Yes'], ['1st', 'Female', 'Adult', 'Yes'], ['1st', 'Female', 'Adult', 'Yes'], ['1st', 'Female', 'Adult', 'Yes'], ['1st', 'Female', 'Adult', 'Yes'], ['1st', 'Female', 'Adult', 'Yes'], ['1st', 'Female', 'Adult', 'Yes'], ['1st', 'Female', 'Adult', 'Yes'], ['1st', 'Female', 'Adult', 'Yes'], ['1st', 'Female', 'Adult', 'Yes'], ['1st', 'Female', 'Adult', 'Yes'], ['1st', 'Female', 'Adult', 'Yes'], ['1st', 'Female', 'Adult', 'Yes'], ['1st', 'Female', 'Adult', 'Yes'], ['1st', 'Female', 'Adult', 'Yes'], ['1st', 'Female', 'Adult', 'Yes'], ['1st', 'Female', 'Adult', 'Yes'], ['1st', 'Female', 'Adult', 'Yes'], ['1st', 'Female', 'Adult', 'Yes'], ['1st', 'Female', 'Adult', 'Yes'], ['1st', 'Female', 'Adult', 'Yes'], ['2nd', 'Female', 'Adult', 'Yes'], ['2nd', 'Female', 'Adult', 'Yes'], ['2nd', 'Female', 'Adult', 'Yes'], ['2nd', 'Female', 'Adult', 'Yes'], ['2nd', 'Female', 'Adult', 'Yes'], ['2nd', 'Female', 'Adult', 'Yes'], ['2nd', 'Female', 'Adult', 'Yes'], ['2nd', 'Female', 'Adult', 'Yes'], ['2nd', 'Female', 'Adult', 'Yes'], ['2nd', 'Female', 'Adult', 'Yes'], ['2nd', 'Female', 'Adult', 'Yes'], ['2nd', 'Female', 'Adult', 'Yes'], ['2nd', 'Female', 'Adult', 'Yes'], ['2nd', 'Female', 'Adult', 'Yes'], ['2nd', 'Female', 'Adult', 'Yes'], ['2nd', 'Female', 'Adult', 'Yes'], ['2nd', 'Female', 'Adult', 'Yes'], ['2nd', 'Female', 'Adult', 'Yes'], ['2nd', 'Female', 'Adult', 'Yes'], ['2nd', 'Female', 'Adult', 'Yes'], ['2nd', 'Female', 'Adult', 'Yes'], ['2nd', 'Female', 'Adult', 'Yes'], ['2nd', 'Female', 'Adult', 'Yes'], ['2nd', 'Female', 'Adult', 'Yes'], ['2nd', 'Female', 'Adult', 'Yes'], ['2nd', 'Female', 'Adult', 'Yes'], ['2nd', 'Female', 'Adult', 'Yes'], ['2nd', 'Female', 'Adult', 'Yes'], ['2nd', 'Female', 'Adult', 'Yes'], ['2nd', 'Female', 'Adult', 'Yes'], ['2nd', 'Female', 'Adult', 'Yes'], ['2nd', 'Female', 'Adult', 'Yes'], ['2nd', 'Female', 'Adult', 'Yes'], ['2nd', 'Female', 'Adult', 'Yes'], ['2nd', 'Female', 'Adult', 'Yes'], ['2nd', 'Female', 'Adult', 'Yes'], ['2nd', 'Female', 'Adult', 'Yes'], ['2nd', 'Female', 'Adult', 'Yes'], ['2nd', 'Female', 'Adult', 'Yes'], ['2nd', 'Female', 'Adult', 'Yes'], ['2nd', 'Female', 'Adult', 'Yes'], ['2nd', 'Female', 'Adult', 'Yes'], ['2nd', 'Female', 'Adult', 'Yes'], ['2nd', 'Female', 'Adult', 'Yes'], ['2nd', 'Female', 'Adult', 'Yes'], ['2nd', 'Female', 'Adult', 'Yes'], ['2nd', 'Female', 'Adult', 'Yes'], ['2nd', 'Female', 'Adult', 'Yes'], ['2nd', 'Female', 'Adult', 'Yes'], ['2nd', 'Female', 'Adult', 'Yes'], ['2nd', 'Female', 'Adult', 'Yes'], ['2nd', 'Female', 'Adult', 'Yes'], ['2nd', 'Female', 'Adult', 'Yes'], ['2nd', 'Female', 'Adult', 'Yes'], ['2nd', 'Female', 'Adult', 'Yes'], ['2nd', 'Female', 'Adult', 'Yes'], ['2nd', 'Female', 'Adult', 'Yes'], ['2nd', 'Female', 'Adult', 'Yes'], ['2nd', 'Female', 'Adult', 'Yes'], ['2nd', 'Female', 'Adult', 'Yes'], ['2nd', 'Female', 'Adult', 'Yes'], ['2nd', 'Female', 'Adult', 'Yes'], ['2nd', 'Female', 'Adult', 'Yes'], ['2nd', 'Female', 'Adult', 'Yes'], ['2nd', 'Female', 'Adult', 'Yes'], ['2nd', 'Female', 'Adult', 'Yes'], ['2nd', 'Female', 'Adult', 'Yes'], ['2nd', 'Female', 'Adult', 'Yes'], ['2nd', 'Female', 'Adult', 'Yes'], ['2nd', 'Female', 'Adult', 'Yes'], ['2nd', 'Female', 'Adult', 'Yes'], ['2nd', 'Female', 'Adult', 'Yes'], ['2nd', 'Female', 'Adult', 'Yes'], ['2nd', 'Female', 'Adult', 'Yes'], ['2nd', 'Female', 'Adult', 'Yes'], ['2nd', 'Female', 'Adult', 'Yes'], ['2nd', 'Female', 'Adult', 'Yes'], ['2nd', 'Female', 'Adult', 'Yes'], ['2nd', 'Female', 'Adult', 'Yes'], ['2nd', 'Female', 'Adult', 'Yes'], ['3rd', 'Female', 'Adult', 'Yes'], ['3rd', 'Female', 'Adult', 'Yes'], ['3rd', 'Female', 'Adult', 'Yes'], ['3rd', 'Female', 'Adult', 'Yes'], ['3rd', 'Female', 'Adult', 'Yes'], ['3rd', 'Female', 'Adult', 'Yes'], ['3rd', 'Female', 'Adult', 'Yes'], ['3rd', 'Female', 'Adult', 'Yes'], ['3rd', 'Female', 'Adult', 'Yes'], ['3rd', 'Female', 'Adult', 'Yes'], ['3rd', 'Female', 'Adult', 'Yes'], ['3rd', 'Female', 'Adult', 'Yes'], ['3rd', 'Female', 'Adult', 'Yes'], ['3rd', 'Female', 'Adult', 'Yes'], ['3rd', 'Female', 'Adult', 'Yes'], ['3rd', 'Female', 'Adult', 'Yes'], ['3rd', 'Female', 'Adult', 'Yes'], ['3rd', 'Female', 'Adult', 'Yes'], ['3rd', 'Female', 'Adult', 'Yes'], ['3rd', 'Female', 'Adult', 'Yes'], ['3rd', 'Female', 'Adult', 'Yes'], ['3rd', 'Female', 'Adult', 'Yes'], ['3rd', 'Female', 'Adult', 'Yes'], ['3rd', 'Female', 'Adult', 'Yes'], ['3rd', 'Female', 'Adult', 'Yes'], ['3rd', 'Female', 'Adult', 'Yes'], ['3rd', 'Female', 'Adult', 'Yes'], ['3rd', 'Female', 'Adult', 'Yes'], ['3rd', 'Female', 'Adult', 'Yes'], ['3rd', 'Female', 'Adult', 'Yes'], ['3rd', 'Female', 'Adult', 'Yes'], ['3rd', 'Female', 'Adult', 'Yes'], ['3rd', 'Female', 'Adult', 'Yes'], ['3rd', 'Female', 'Adult', 'Yes'], ['3rd', 'Female', 'Adult', 'Yes'], ['3rd', 'Female', 'Adult', 'Yes'], ['3rd', 'Female', 'Adult', 'Yes'], ['3rd', 'Female', 'Adult', 'Yes'], ['3rd', 'Female', 'Adult', 'Yes'], ['3rd', 'Female', 'Adult', 'Yes'], ['3rd', 'Female', 'Adult', 'Yes'], ['3rd', 'Female', 'Adult', 'Yes'], ['3rd', 'Female', 'Adult', 'Yes'], ['3rd', 'Female', 'Adult', 'Yes'], ['3rd', 'Female', 'Adult', 'Yes'], ['3rd', 'Female', 'Adult', 'Yes'], ['3rd', 'Female', 'Adult', 'Yes'], ['3rd', 'Female', 'Adult', 'Yes'], ['3rd', 'Female', 'Adult', 'Yes'], ['3rd', 'Female', 'Adult', 'Yes'], ['3rd', 'Female', 'Adult', 'Yes'], ['3rd', 'Female', 'Adult', 'Yes'], ['3rd', 'Female', 'Adult', 'Yes'], ['3rd', 'Female', 'Adult', 'Yes'], ['3rd', 'Female', 'Adult', 'Yes'], ['3rd', 'Female', 'Adult', 'Yes'], ['3rd', 'Female', 'Adult', 'Yes'], ['3rd', 'Female', 'Adult', 'Yes'], ['3rd', 'Female', 'Adult', 'Yes'], ['3rd', 'Female', 'Adult', 'Yes'], ['3rd', 'Female', 'Adult', 'Yes'], ['3rd', 'Female', 'Adult', 'Yes'], ['3rd', 'Female', 'Adult', 'Yes'], ['3rd', 'Female', 'Adult', 'Yes'], ['3rd', 'Female', 'Adult', 'Yes'], ['3rd', 'Female', 'Adult', 'Yes'], ['3rd', 'Female', 'Adult', 'Yes'], ['3rd', 'Female', 'Adult', 'Yes'], ['3rd', 'Female', 'Adult', 'Yes'], ['3rd', 'Female', 'Adult', 'Yes'], ['3rd', 'Female', 'Adult', 'Yes'], ['3rd', 'Female', 'Adult', 'Yes'], ['3rd', 'Female', 'Adult', 'Yes'], ['3rd', 'Female', 'Adult', 'Yes'], ['3rd', 'Female', 'Adult', 'Yes'], ['3rd', 'Female', 'Adult', 'Yes'], ['Crew', 'Female', 'Adult', 'Yes'], ['Crew', 'Female', 'Adult', 'Yes'], ['Crew', 'Female', 'Adult', 'Yes'], ['Crew', 'Female', 'Adult', 'Yes'], ['Crew', 'Female', 'Adult', 'Yes'], ['Crew', 'Female', 'Adult', 'Yes'], ['Crew', 'Female', 'Adult', 'Yes'], ['Crew', 'Female', 'Adult', 'Yes'], ['Crew', 'Female', 'Adult', 'Yes'], ['Crew', 'Female', 'Adult', 'Yes'], ['Crew', 'Female', 'Adult', 'Yes'], ['Crew', 'Female', 'Adult', 'Yes'], ['Crew', 'Female', 'Adult', 'Yes'], ['Crew', 'Female', 'Adult', 'Yes'], ['Crew', 'Female', 'Adult', 'Yes'], ['Crew', 'Female', 'Adult', 'Yes'], ['Crew', 'Female', 'Adult', 'Yes'], ['Crew', 'Female', 'Adult', 'Yes'], ['Crew', 'Female', 'Adult', 'Yes'], ['Crew', 'Female', 'Adult', 'Yes']]\n"
          ],
          "name": "stdout"
        }
      ]
    },
    {
      "cell_type": "code",
      "metadata": {
        "id": "LMVbtt1Uudo2"
      },
      "source": [
        "te = TransactionEncoder()\n",
        "\n",
        "#Coloca em memória as trasações e interpreta a quantidade de colunas que serão geradas durante o processamento\n",
        "te.fit(transacoes)\n",
        "\n",
        "#O objeto TransactionEncoder faz a conversão das transações em uma matriz binária onde cada linha da matriz representa uma transação\n",
        "matriz_transacoes = te.transform(transacoes)"
      ],
      "execution_count": null,
      "outputs": []
    },
    {
      "cell_type": "code",
      "metadata": {
        "id": "wbkAMbdqvoeV",
        "colab": {
          "base_uri": "https://localhost:8080/",
          "height": 34
        },
        "outputId": "88a4c50e-67f6-42df-e7b3-9e0972f46847"
      },
      "source": [
        "print(te.columns_)"
      ],
      "execution_count": null,
      "outputs": [
        {
          "output_type": "stream",
          "text": [
            "['1st', '2nd', '3rd', 'Adult', 'Child', 'Crew', 'Female', 'Male', 'No', 'Yes']\n"
          ],
          "name": "stdout"
        }
      ]
    },
    {
      "cell_type": "code",
      "metadata": {
        "id": "TER0Bhl3vrsN",
        "colab": {
          "base_uri": "https://localhost:8080/",
          "height": 195
        },
        "outputId": "14287eab-2cda-47b8-95a0-5fd3e35809e2"
      },
      "source": [
        "#Cria um dataframe auxiliar com a matriz binária (passo te.transform(transacoes)) de transações e as colunas obtidas (passo te.fit(transacoes))\n",
        "dfAuxiliar = pd.DataFrame(matriz_transacoes, columns=te.columns_)\n",
        "dfAuxiliar.head()"
      ],
      "execution_count": null,
      "outputs": [
        {
          "output_type": "execute_result",
          "data": {
            "text/html": [
              "<div>\n",
              "<style scoped>\n",
              "    .dataframe tbody tr th:only-of-type {\n",
              "        vertical-align: middle;\n",
              "    }\n",
              "\n",
              "    .dataframe tbody tr th {\n",
              "        vertical-align: top;\n",
              "    }\n",
              "\n",
              "    .dataframe thead th {\n",
              "        text-align: right;\n",
              "    }\n",
              "</style>\n",
              "<table border=\"1\" class=\"dataframe\">\n",
              "  <thead>\n",
              "    <tr style=\"text-align: right;\">\n",
              "      <th></th>\n",
              "      <th>1st</th>\n",
              "      <th>2nd</th>\n",
              "      <th>3rd</th>\n",
              "      <th>Adult</th>\n",
              "      <th>Child</th>\n",
              "      <th>Crew</th>\n",
              "      <th>Female</th>\n",
              "      <th>Male</th>\n",
              "      <th>No</th>\n",
              "      <th>Yes</th>\n",
              "    </tr>\n",
              "  </thead>\n",
              "  <tbody>\n",
              "    <tr>\n",
              "      <th>0</th>\n",
              "      <td>False</td>\n",
              "      <td>False</td>\n",
              "      <td>True</td>\n",
              "      <td>False</td>\n",
              "      <td>True</td>\n",
              "      <td>False</td>\n",
              "      <td>False</td>\n",
              "      <td>True</td>\n",
              "      <td>True</td>\n",
              "      <td>False</td>\n",
              "    </tr>\n",
              "    <tr>\n",
              "      <th>1</th>\n",
              "      <td>False</td>\n",
              "      <td>False</td>\n",
              "      <td>True</td>\n",
              "      <td>False</td>\n",
              "      <td>True</td>\n",
              "      <td>False</td>\n",
              "      <td>False</td>\n",
              "      <td>True</td>\n",
              "      <td>True</td>\n",
              "      <td>False</td>\n",
              "    </tr>\n",
              "    <tr>\n",
              "      <th>2</th>\n",
              "      <td>False</td>\n",
              "      <td>False</td>\n",
              "      <td>True</td>\n",
              "      <td>False</td>\n",
              "      <td>True</td>\n",
              "      <td>False</td>\n",
              "      <td>False</td>\n",
              "      <td>True</td>\n",
              "      <td>True</td>\n",
              "      <td>False</td>\n",
              "    </tr>\n",
              "    <tr>\n",
              "      <th>3</th>\n",
              "      <td>False</td>\n",
              "      <td>False</td>\n",
              "      <td>True</td>\n",
              "      <td>False</td>\n",
              "      <td>True</td>\n",
              "      <td>False</td>\n",
              "      <td>False</td>\n",
              "      <td>True</td>\n",
              "      <td>True</td>\n",
              "      <td>False</td>\n",
              "    </tr>\n",
              "    <tr>\n",
              "      <th>4</th>\n",
              "      <td>False</td>\n",
              "      <td>False</td>\n",
              "      <td>True</td>\n",
              "      <td>False</td>\n",
              "      <td>True</td>\n",
              "      <td>False</td>\n",
              "      <td>False</td>\n",
              "      <td>True</td>\n",
              "      <td>True</td>\n",
              "      <td>False</td>\n",
              "    </tr>\n",
              "  </tbody>\n",
              "</table>\n",
              "</div>"
            ],
            "text/plain": [
              "     1st    2nd   3rd  Adult  Child   Crew  Female  Male    No    Yes\n",
              "0  False  False  True  False   True  False   False  True  True  False\n",
              "1  False  False  True  False   True  False   False  True  True  False\n",
              "2  False  False  True  False   True  False   False  True  True  False\n",
              "3  False  False  True  False   True  False   False  True  True  False\n",
              "4  False  False  True  False   True  False   False  True  True  False"
            ]
          },
          "metadata": {
            "tags": []
          },
          "execution_count": 8
        }
      ]
    },
    {
      "cell_type": "code",
      "metadata": {
        "id": "1Orm-YFtxfEM"
      },
      "source": [
        "#Obtêm os itemsets mais frequentes com um suporte mínimo igual a 0.01. O paramêtro use_colnames significa que vamos usar os nomes das colunas do DataFrame dfAuxiliar \n",
        "#para construir as regras de Associação\n",
        "itemsets_freq = apriori(dfAuxiliar, min_support=0.005, use_colnames=True)\n",
        "\n",
        "#Algumas métricas:\n",
        "#- support(A->C) = support(A+C) [aka 'support'], range: [0, 1]\n",
        "#- confidence(A->C) = support(A+C) / support(A), range: [0, 1]\n",
        "#- lift(A->C) = confidence(A->C) / support(C), range: [0, inf]\n",
        "#- leverage(A->C) = support(A->C) - support(A)*support(C), range: [-1, 1]\n",
        "#- conviction = [1 - support(C)] / [1 - confidence(A->C)],"
      ],
      "execution_count": null,
      "outputs": []
    },
    {
      "cell_type": "code",
      "metadata": {
        "id": "wfvmeWxfxjLa"
      },
      "source": [
        "#Obtêm as regras de associação a partir dos itemsets mais frequêntes\n",
        "regras = association_rules(itemsets_freq, metric=\"confidence\", min_threshold=0.4)"
      ],
      "execution_count": null,
      "outputs": []
    },
    {
      "cell_type": "code",
      "metadata": {
        "id": "XYn0Vfz8zclD"
      },
      "source": [
        "#Ordena as Regras por confiança\n",
        "regrasOrdenadas = regras.sort_values('confidence' , ascending=False)"
      ],
      "execution_count": null,
      "outputs": []
    },
    {
      "cell_type": "code",
      "metadata": {
        "id": "2dH5N6JXzdMA",
        "colab": {
          "base_uri": "https://localhost:8080/",
          "height": 402
        },
        "outputId": "2b90fc41-0add-4787-e654-84712d2eb640"
      },
      "source": [
        "regrasOrdenadas"
      ],
      "execution_count": null,
      "outputs": [
        {
          "output_type": "execute_result",
          "data": {
            "text/html": [
              "<div>\n",
              "<style scoped>\n",
              "    .dataframe tbody tr th:only-of-type {\n",
              "        vertical-align: middle;\n",
              "    }\n",
              "\n",
              "    .dataframe tbody tr th {\n",
              "        vertical-align: top;\n",
              "    }\n",
              "\n",
              "    .dataframe thead th {\n",
              "        text-align: right;\n",
              "    }\n",
              "</style>\n",
              "<table border=\"1\" class=\"dataframe\">\n",
              "  <thead>\n",
              "    <tr style=\"text-align: right;\">\n",
              "      <th></th>\n",
              "      <th>antecedents</th>\n",
              "      <th>consequents</th>\n",
              "      <th>antecedent support</th>\n",
              "      <th>consequent support</th>\n",
              "      <th>support</th>\n",
              "      <th>confidence</th>\n",
              "      <th>lift</th>\n",
              "      <th>leverage</th>\n",
              "      <th>conviction</th>\n",
              "    </tr>\n",
              "  </thead>\n",
              "  <tbody>\n",
              "    <tr>\n",
              "      <th>40</th>\n",
              "      <td>(1st, No)</td>\n",
              "      <td>(Adult)</td>\n",
              "      <td>0.055429</td>\n",
              "      <td>0.950477</td>\n",
              "      <td>0.055429</td>\n",
              "      <td>1.000000</td>\n",
              "      <td>1.052103</td>\n",
              "      <td>0.002745</td>\n",
              "      <td>inf</td>\n",
              "    </tr>\n",
              "    <tr>\n",
              "      <th>141</th>\n",
              "      <td>(1st, Male, No)</td>\n",
              "      <td>(Adult)</td>\n",
              "      <td>0.053612</td>\n",
              "      <td>0.950477</td>\n",
              "      <td>0.053612</td>\n",
              "      <td>1.000000</td>\n",
              "      <td>1.052103</td>\n",
              "      <td>0.002655</td>\n",
              "      <td>inf</td>\n",
              "    </tr>\n",
              "    <tr>\n",
              "      <th>212</th>\n",
              "      <td>(Crew, Yes, Male)</td>\n",
              "      <td>(Adult)</td>\n",
              "      <td>0.087233</td>\n",
              "      <td>0.950477</td>\n",
              "      <td>0.087233</td>\n",
              "      <td>1.000000</td>\n",
              "      <td>1.052103</td>\n",
              "      <td>0.004320</td>\n",
              "      <td>inf</td>\n",
              "    </tr>\n",
              "    <tr>\n",
              "      <th>162</th>\n",
              "      <td>(Female, 2nd, Child)</td>\n",
              "      <td>(Yes)</td>\n",
              "      <td>0.005906</td>\n",
              "      <td>0.323035</td>\n",
              "      <td>0.005906</td>\n",
              "      <td>1.000000</td>\n",
              "      <td>3.095640</td>\n",
              "      <td>0.003998</td>\n",
              "      <td>inf</td>\n",
              "    </tr>\n",
              "    <tr>\n",
              "      <th>97</th>\n",
              "      <td>(Crew, No)</td>\n",
              "      <td>(Adult)</td>\n",
              "      <td>0.305770</td>\n",
              "      <td>0.950477</td>\n",
              "      <td>0.305770</td>\n",
              "      <td>1.000000</td>\n",
              "      <td>1.052103</td>\n",
              "      <td>0.015143</td>\n",
              "      <td>inf</td>\n",
              "    </tr>\n",
              "    <tr>\n",
              "      <th>...</th>\n",
              "      <td>...</td>\n",
              "      <td>...</td>\n",
              "      <td>...</td>\n",
              "      <td>...</td>\n",
              "      <td>...</td>\n",
              "      <td>...</td>\n",
              "      <td>...</td>\n",
              "      <td>...</td>\n",
              "      <td>...</td>\n",
              "    </tr>\n",
              "    <tr>\n",
              "      <th>21</th>\n",
              "      <td>(Child)</td>\n",
              "      <td>(Female)</td>\n",
              "      <td>0.049523</td>\n",
              "      <td>0.213539</td>\n",
              "      <td>0.020445</td>\n",
              "      <td>0.412844</td>\n",
              "      <td>1.933340</td>\n",
              "      <td>0.009870</td>\n",
              "      <td>1.339441</td>\n",
              "    </tr>\n",
              "    <tr>\n",
              "      <th>96</th>\n",
              "      <td>(Adult)</td>\n",
              "      <td>(Crew, Male)</td>\n",
              "      <td>0.950477</td>\n",
              "      <td>0.391640</td>\n",
              "      <td>0.391640</td>\n",
              "      <td>0.412046</td>\n",
              "      <td>1.052103</td>\n",
              "      <td>0.019395</td>\n",
              "      <td>1.034706</td>\n",
              "    </tr>\n",
              "    <tr>\n",
              "      <th>46</th>\n",
              "      <td>(Female, Yes)</td>\n",
              "      <td>(1st)</td>\n",
              "      <td>0.156293</td>\n",
              "      <td>0.147660</td>\n",
              "      <td>0.064062</td>\n",
              "      <td>0.409884</td>\n",
              "      <td>2.775859</td>\n",
              "      <td>0.040984</td>\n",
              "      <td>1.444359</td>\n",
              "    </tr>\n",
              "    <tr>\n",
              "      <th>139</th>\n",
              "      <td>(Female, Yes)</td>\n",
              "      <td>(1st, Adult)</td>\n",
              "      <td>0.156293</td>\n",
              "      <td>0.144934</td>\n",
              "      <td>0.063607</td>\n",
              "      <td>0.406977</td>\n",
              "      <td>2.808012</td>\n",
              "      <td>0.040955</td>\n",
              "      <td>1.441876</td>\n",
              "    </tr>\n",
              "    <tr>\n",
              "      <th>208</th>\n",
              "      <td>(Male, Adult)</td>\n",
              "      <td>(Crew, No)</td>\n",
              "      <td>0.757383</td>\n",
              "      <td>0.305770</td>\n",
              "      <td>0.304407</td>\n",
              "      <td>0.401920</td>\n",
              "      <td>1.314450</td>\n",
              "      <td>0.072822</td>\n",
              "      <td>1.160764</td>\n",
              "    </tr>\n",
              "  </tbody>\n",
              "</table>\n",
              "<p>217 rows × 9 columns</p>\n",
              "</div>"
            ],
            "text/plain": [
              "              antecedents   consequents  ...  leverage  conviction\n",
              "40              (1st, No)       (Adult)  ...  0.002745         inf\n",
              "141       (1st, Male, No)       (Adult)  ...  0.002655         inf\n",
              "212     (Crew, Yes, Male)       (Adult)  ...  0.004320         inf\n",
              "162  (Female, 2nd, Child)         (Yes)  ...  0.003998         inf\n",
              "97             (Crew, No)       (Adult)  ...  0.015143         inf\n",
              "..                    ...           ...  ...       ...         ...\n",
              "21                (Child)      (Female)  ...  0.009870    1.339441\n",
              "96                (Adult)  (Crew, Male)  ...  0.019395    1.034706\n",
              "46          (Female, Yes)         (1st)  ...  0.040984    1.444359\n",
              "139         (Female, Yes)  (1st, Adult)  ...  0.040955    1.441876\n",
              "208         (Male, Adult)    (Crew, No)  ...  0.072822    1.160764\n",
              "\n",
              "[217 rows x 9 columns]"
            ]
          },
          "metadata": {
            "tags": []
          },
          "execution_count": 14
        }
      ]
    },
    {
      "cell_type": "code",
      "metadata": {
        "id": "D5MDRBEezeoM",
        "colab": {
          "base_uri": "https://localhost:8080/",
          "height": 402
        },
        "outputId": "65dd2068-d026-4e0e-d3a4-3562d5786aca"
      },
      "source": [
        "#mantém apenas as colunas que vamos utilizar \n",
        "regrasOrdenadas = regrasOrdenadas[['antecedents', 'consequents', 'support', 'confidence']]\n",
        "regrasOrdenadas"
      ],
      "execution_count": null,
      "outputs": [
        {
          "output_type": "execute_result",
          "data": {
            "text/html": [
              "<div>\n",
              "<style scoped>\n",
              "    .dataframe tbody tr th:only-of-type {\n",
              "        vertical-align: middle;\n",
              "    }\n",
              "\n",
              "    .dataframe tbody tr th {\n",
              "        vertical-align: top;\n",
              "    }\n",
              "\n",
              "    .dataframe thead th {\n",
              "        text-align: right;\n",
              "    }\n",
              "</style>\n",
              "<table border=\"1\" class=\"dataframe\">\n",
              "  <thead>\n",
              "    <tr style=\"text-align: right;\">\n",
              "      <th></th>\n",
              "      <th>antecedents</th>\n",
              "      <th>consequents</th>\n",
              "      <th>support</th>\n",
              "      <th>confidence</th>\n",
              "    </tr>\n",
              "  </thead>\n",
              "  <tbody>\n",
              "    <tr>\n",
              "      <th>40</th>\n",
              "      <td>(1st, No)</td>\n",
              "      <td>(Adult)</td>\n",
              "      <td>0.055429</td>\n",
              "      <td>1.000000</td>\n",
              "    </tr>\n",
              "    <tr>\n",
              "      <th>141</th>\n",
              "      <td>(1st, Male, No)</td>\n",
              "      <td>(Adult)</td>\n",
              "      <td>0.053612</td>\n",
              "      <td>1.000000</td>\n",
              "    </tr>\n",
              "    <tr>\n",
              "      <th>212</th>\n",
              "      <td>(Crew, Yes, Male)</td>\n",
              "      <td>(Adult)</td>\n",
              "      <td>0.087233</td>\n",
              "      <td>1.000000</td>\n",
              "    </tr>\n",
              "    <tr>\n",
              "      <th>162</th>\n",
              "      <td>(Female, 2nd, Child)</td>\n",
              "      <td>(Yes)</td>\n",
              "      <td>0.005906</td>\n",
              "      <td>1.000000</td>\n",
              "    </tr>\n",
              "    <tr>\n",
              "      <th>97</th>\n",
              "      <td>(Crew, No)</td>\n",
              "      <td>(Adult)</td>\n",
              "      <td>0.305770</td>\n",
              "      <td>1.000000</td>\n",
              "    </tr>\n",
              "    <tr>\n",
              "      <th>...</th>\n",
              "      <td>...</td>\n",
              "      <td>...</td>\n",
              "      <td>...</td>\n",
              "      <td>...</td>\n",
              "    </tr>\n",
              "    <tr>\n",
              "      <th>21</th>\n",
              "      <td>(Child)</td>\n",
              "      <td>(Female)</td>\n",
              "      <td>0.020445</td>\n",
              "      <td>0.412844</td>\n",
              "    </tr>\n",
              "    <tr>\n",
              "      <th>96</th>\n",
              "      <td>(Adult)</td>\n",
              "      <td>(Crew, Male)</td>\n",
              "      <td>0.391640</td>\n",
              "      <td>0.412046</td>\n",
              "    </tr>\n",
              "    <tr>\n",
              "      <th>46</th>\n",
              "      <td>(Female, Yes)</td>\n",
              "      <td>(1st)</td>\n",
              "      <td>0.064062</td>\n",
              "      <td>0.409884</td>\n",
              "    </tr>\n",
              "    <tr>\n",
              "      <th>139</th>\n",
              "      <td>(Female, Yes)</td>\n",
              "      <td>(1st, Adult)</td>\n",
              "      <td>0.063607</td>\n",
              "      <td>0.406977</td>\n",
              "    </tr>\n",
              "    <tr>\n",
              "      <th>208</th>\n",
              "      <td>(Male, Adult)</td>\n",
              "      <td>(Crew, No)</td>\n",
              "      <td>0.304407</td>\n",
              "      <td>0.401920</td>\n",
              "    </tr>\n",
              "  </tbody>\n",
              "</table>\n",
              "<p>217 rows × 4 columns</p>\n",
              "</div>"
            ],
            "text/plain": [
              "              antecedents   consequents   support  confidence\n",
              "40              (1st, No)       (Adult)  0.055429    1.000000\n",
              "141       (1st, Male, No)       (Adult)  0.053612    1.000000\n",
              "212     (Crew, Yes, Male)       (Adult)  0.087233    1.000000\n",
              "162  (Female, 2nd, Child)         (Yes)  0.005906    1.000000\n",
              "97             (Crew, No)       (Adult)  0.305770    1.000000\n",
              "..                    ...           ...       ...         ...\n",
              "21                (Child)      (Female)  0.020445    0.412844\n",
              "96                (Adult)  (Crew, Male)  0.391640    0.412046\n",
              "46          (Female, Yes)         (1st)  0.064062    0.409884\n",
              "139         (Female, Yes)  (1st, Adult)  0.063607    0.406977\n",
              "208         (Male, Adult)    (Crew, No)  0.304407    0.401920\n",
              "\n",
              "[217 rows x 4 columns]"
            ]
          },
          "metadata": {
            "tags": []
          },
          "execution_count": 16
        }
      ]
    },
    {
      "cell_type": "code",
      "metadata": {
        "id": "gY84tsjVzhlr"
      },
      "source": [
        "#Analise apenas da coluna Survived\n",
        "regras_sobrevivetes =  regrasOrdenadas[regrasOrdenadas['consequents'] == {'Yes'}]\n",
        "#OU\n",
        "subset_sobrevivou = {'Yes'}\n",
        "regras_sobrevivetes =  regrasOrdenadas[  regrasOrdenadas['consequents'].apply(lambda x: subset_sobrevivou.issubset(x))]"
      ],
      "execution_count": null,
      "outputs": []
    },
    {
      "cell_type": "code",
      "metadata": {
        "id": "jmm8OTVh1egb",
        "colab": {
          "base_uri": "https://localhost:8080/",
          "height": 790
        },
        "outputId": "361fd5b1-c474-4fd2-b6ca-b11e56ac4856"
      },
      "source": [
        "regras_naoSobrevivetes =  regrasOrdenadas[regrasOrdenadas['consequents'] == {'No'}]\n",
        "\n",
        "subset_Mulheres = {'Female'}\n",
        "regras_mulheres = regrasOrdenadas[  regrasOrdenadas['antecedents'].apply(lambda x: subset_Mulheres.issubset(x))]\n",
        "print(regras_mulheres)"
      ],
      "execution_count": null,
      "outputs": [
        {
          "output_type": "stream",
          "text": [
            "               antecedents   consequents   support  confidence\n",
            "162   (Female, 2nd, Child)         (Yes)  0.005906    1.000000\n",
            "197    (Female, Crew, Yes)       (Adult)  0.009087    1.000000\n",
            "90          (Female, Crew)       (Adult)  0.010450    1.000000\n",
            "185    (Female, Child, No)         (3rd)  0.007724    1.000000\n",
            "147      (Female, 2nd, No)       (Adult)  0.005906    1.000000\n",
            "34           (1st, Female)       (Adult)  0.065425    0.993103\n",
            "132     (1st, Female, Yes)       (Adult)  0.063607    0.992908\n",
            "44           (1st, Female)         (Yes)  0.064062    0.972414\n",
            "133   (1st, Female, Adult)         (Yes)  0.063607    0.972222\n",
            "136          (1st, Female)  (Yes, Adult)  0.063607    0.965517\n",
            "104          (Female, Yes)       (Adult)  0.143571    0.918605\n",
            "15                (Female)       (Adult)  0.193094    0.904255\n",
            "50           (Female, 2nd)       (Adult)  0.042254    0.877358\n",
            "61           (Female, 2nd)         (Yes)  0.042254    0.877358\n",
            "198  (Female, Crew, Adult)         (Yes)  0.009087    0.869565\n",
            "124         (Female, Crew)         (Yes)  0.009087    0.869565\n",
            "199         (Female, Crew)  (Yes, Adult)  0.009087    0.869565\n",
            "103           (Female, No)       (Adult)  0.049523    0.865079\n",
            "148     (2nd, Female, Yes)       (Adult)  0.036347    0.860215\n",
            "149   (Female, 2nd, Adult)         (Yes)  0.036347    0.860215\n",
            "170     (Female, 3rd, Yes)       (Adult)  0.034530    0.844444\n",
            "66           (Female, 3rd)       (Adult)  0.074966    0.841837\n",
            "83            (Female, No)         (3rd)  0.048160    0.841270\n",
            "165      (Female, 3rd, No)       (Adult)  0.040436    0.839623\n",
            "167    (Female, No, Adult)         (3rd)  0.040436    0.816514\n",
            "151          (Female, 2nd)  (Yes, Adult)  0.036347    0.754717\n",
            "105        (Female, Adult)         (Yes)  0.143571    0.743529\n",
            "29                (Female)         (Yes)  0.156293    0.731915\n",
            "169           (Female, No)  (3rd, Adult)  0.040436    0.706349\n",
            "74         (Female, Child)         (3rd)  0.014085    0.688889\n",
            "107               (Female)  (Yes, Adult)  0.143571    0.672340\n",
            "118        (Female, Child)         (Yes)  0.012721    0.622222\n",
            "184   (Female, 3rd, Child)          (No)  0.007724    0.548387\n",
            "82           (Female, 3rd)          (No)  0.048160    0.540816\n",
            "166   (Female, 3rd, Adult)          (No)  0.040436    0.539394\n",
            "187   (Female, Yes, Child)         (3rd)  0.006361    0.500000\n",
            "161   (Female, Yes, Child)         (2nd)  0.005906    0.464286\n",
            "171   (Female, 3rd, Adult)         (Yes)  0.034530    0.460606\n",
            "84           (Female, 3rd)         (Yes)  0.040891    0.459184\n",
            "168          (Female, 3rd)   (No, Adult)  0.040436    0.454082\n",
            "186   (Female, 3rd, Child)         (Yes)  0.006361    0.451613\n",
            "135   (Female, Yes, Adult)         (1st)  0.063607    0.443038\n",
            "10                (Female)         (3rd)  0.089050    0.417021\n",
            "46           (Female, Yes)         (1st)  0.064062    0.409884\n",
            "139          (Female, Yes)  (1st, Adult)  0.063607    0.406977\n"
          ],
          "name": "stdout"
        }
      ]
    },
    {
      "cell_type": "code",
      "metadata": {
        "id": "INf8_M-p1kXZ"
      },
      "source": [
        ""
      ],
      "execution_count": null,
      "outputs": []
    }
  ]
}